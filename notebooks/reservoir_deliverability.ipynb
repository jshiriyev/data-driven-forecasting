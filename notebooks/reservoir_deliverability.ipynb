{
 "cells": [
  {
   "cell_type": "code",
   "execution_count": 1,
   "id": "e9036e68-7c7e-44bb-8a77-02eda9ed63f6",
   "metadata": {},
   "outputs": [],
   "source": [
    "import sys\n",
    "sys.path.append(r\"C:\\Users\\User\\Documents\\GitHub\\prodpy\")"
   ]
  },
  {
   "cell_type": "code",
   "execution_count": 2,
   "id": "e4da4220-67f2-480f-a098-7c64fda70671",
   "metadata": {},
   "outputs": [],
   "source": [
    "import matplotlib.pyplot as plt"
   ]
  },
  {
   "cell_type": "code",
   "execution_count": 3,
   "id": "3b2ad472-ee47-4138-a998-08bb57e3d661",
   "metadata": {},
   "outputs": [],
   "source": [
    "import numpy as np"
   ]
  },
  {
   "cell_type": "code",
   "execution_count": 4,
   "id": "b5a42642-3028-46ff-b143-b74d9f1aacc0",
   "metadata": {},
   "outputs": [],
   "source": [
    "from IPRcurve import IPR"
   ]
  },
  {
   "cell_type": "code",
   "execution_count": 5,
   "id": "8f5aaf81-6480-4ad8-a69b-059cad667f40",
   "metadata": {},
   "outputs": [],
   "source": [
    "poro = 0.19\n",
    "perm = 8.2      # mD\n",
    "height = 53     # ft\n",
    "Pres = 5651     # psi\n",
    "Bo = 1.1\n",
    "muo = 1.7       # cp\n",
    "ct = 1.29e-5    # 1/psi\n",
    "darea = 640     # acres\n",
    "rw = 0.328      # ft\n",
    "skin = 0"
   ]
  },
  {
   "cell_type": "code",
   "execution_count": 6,
   "id": "9db0ff67-9556-4c53-8482-0a3def9edb00",
   "metadata": {},
   "outputs": [],
   "source": [
    "Pb = 3000       # psi"
   ]
  },
  {
   "cell_type": "code",
   "execution_count": 7,
   "id": "288ebbb9-2b45-48ac-b396-665595562fdb",
   "metadata": {},
   "outputs": [],
   "source": [
    "re = np.sqrt((43560*darea)/np.pi)"
   ]
  },
  {
   "cell_type": "code",
   "execution_count": 8,
   "id": "2732f1f6-899e-49e0-b683-b75b22fb6358",
   "metadata": {},
   "outputs": [],
   "source": [
    "inflow = IPR(\n",
    "    poro = poro,\n",
    "    perm = perm,\n",
    "    height = height,\n",
    "    pb = Pb,\n",
    "    Bo = Bo,\n",
    "    muo = muo,\n",
    "    ct = ct,\n",
    "    re = re,\n",
    "    rw = rw,\n",
    "    skin = skin\n",
    "    )"
   ]
  },
  {
   "cell_type": "code",
   "execution_count": 19,
   "id": "4a7a53af-528d-498e-b705-7f9dbd20e22d",
   "metadata": {},
   "outputs": [],
   "source": [
    "prange = np.linspace(0,5651)\n",
    "prange2 = np.array((5651,5000,4500,4000,3500,3000,2500,2000,1500,1000,500,0))\n",
    "prange3 = np.array((0,565,1130,1695,2260,2826,3000,5651))"
   ]
  },
  {
   "cell_type": "markdown",
   "id": "5d603500-6db0-400e-9231-bfa4e657782a",
   "metadata": {},
   "source": [
    "# Undersaturated Reservoirs"
   ]
  },
  {
   "cell_type": "code",
   "execution_count": 17,
   "id": "d42df3c7-3764-4ca6-b7cd-a5cf1895e958",
   "metadata": {},
   "outputs": [
    {
     "data": {
      "text/plain": [
       "array([1011.50305412,    0.        ])"
      ]
     },
     "execution_count": 17,
     "metadata": {},
     "output_type": "execute_result"
    }
   ],
   "source": [
    "inflow.undersaturated(Pres,pwf=np.array([50,5651]),regime=\"steady\")"
   ]
  },
  {
   "cell_type": "code",
   "execution_count": 18,
   "id": "ef167efa-6cab-4c15-8fc0-eb25a990d104",
   "metadata": {},
   "outputs": [
    {
     "data": {
      "text/plain": [
       "array([1102.2039174,    0.       ])"
      ]
     },
     "execution_count": 18,
     "metadata": {},
     "output_type": "execute_result"
    }
   ],
   "source": [
    "inflow.undersaturated(Pres,pwf=np.array([50,5651]),regime=\"pseudo\")"
   ]
  },
  {
   "cell_type": "code",
   "execution_count": 15,
   "id": "2f047720-c72d-4142-b6ed-3239bd971d88",
   "metadata": {},
   "outputs": [],
   "source": [
    "q_transt = inflow.undersaturated(Pres,pwf=prange,regime=\"transient\",time=30)\n",
    "q_steady = inflow.undersaturated(Pres,pwf=prange,regime=\"steady\")\n",
    "q_pseudo = inflow.undersaturated(Pres,pwf=prange,regime=\"pseudo\")"
   ]
  },
  {
   "cell_type": "code",
   "execution_count": 16,
   "id": "c3a3f8bd-53a5-401a-86ab-930a4369eee9",
   "metadata": {},
   "outputs": [
    {
     "data": {
      "image/png": "[encoded data removed]",
      "text/plain": [
       "<Figure size 432x288 with 1 Axes>"
      ]
     },
     "metadata": {
      "needs_background": "light"
     },
     "output_type": "display_data"
    }
   ],
   "source": [
    "plt.plot(q_transt,prange,label='Transient, 30 days')\n",
    "plt.plot(q_steady,prange,label='Steady State')\n",
    "plt.plot(q_pseudo,prange,label='Pseudo-Steady State')\n",
    "\n",
    "plt.xlabel(\"qo [STB/day]\")\n",
    "plt.ylabel(\"pwf [psi]\")\n",
    "\n",
    "plt.legend()\n",
    "\n",
    "plt.xlim(xmin=0)\n",
    "plt.ylim(ymin=0)\n",
    "\n",
    "plt.show()"
   ]
  },
  {
   "cell_type": "markdown",
   "id": "92ae03b5-dc2f-405b-90f4-464c1f749f53",
   "metadata": {},
   "source": [
    "# Two-Phase Reservoirs"
   ]
  },
  {
   "cell_type": "code",
   "execution_count": 20,
   "id": "2d4b1093-4913-4d4c-b442-f447d8a718e7",
   "metadata": {},
   "outputs": [
    {
     "ename": "TypeError",
     "evalue": "pi_transient() got an unexpected keyword argument 'model'",
     "output_type": "error",
     "traceback": [
      "\u001b[1;31m---------------------------------------------------------------------------\u001b[0m",
      "\u001b[1;31mTypeError\u001b[0m                                 Traceback (most recent call last)",
      "Input \u001b[1;32mIn [20]\u001b[0m, in \u001b[0;36m<cell line: 1>\u001b[1;34m()\u001b[0m\n\u001b[1;32m----> 1\u001b[0m q_transt_vogel \u001b[38;5;241m=\u001b[39m \u001b[43minflow\u001b[49m\u001b[38;5;241;43m.\u001b[39;49m\u001b[43msaturated\u001b[49m\u001b[43m(\u001b[49m\u001b[43mPres\u001b[49m\u001b[43m,\u001b[49m\u001b[43mpwf\u001b[49m\u001b[38;5;241;43m=\u001b[39;49m\u001b[43mprange\u001b[49m\u001b[43m,\u001b[49m\u001b[43mstate\u001b[49m\u001b[38;5;241;43m=\u001b[39;49m\u001b[38;5;124;43m\"\u001b[39;49m\u001b[38;5;124;43mtransient\u001b[39;49m\u001b[38;5;124;43m\"\u001b[39;49m\u001b[43m,\u001b[49m\u001b[43mtime\u001b[49m\u001b[38;5;241;43m=\u001b[39;49m\u001b[38;5;241;43m30\u001b[39;49m\u001b[43m,\u001b[49m\u001b[43mmodel\u001b[49m\u001b[38;5;241;43m=\u001b[39;49m\u001b[38;5;124;43m\"\u001b[39;49m\u001b[38;5;124;43mvogel\u001b[39;49m\u001b[38;5;124;43m\"\u001b[39;49m\u001b[43m)\u001b[49m\n\u001b[0;32m      2\u001b[0m q_steady_vogel \u001b[38;5;241m=\u001b[39m inflow\u001b[38;5;241m.\u001b[39msaturated(Pres,pwf\u001b[38;5;241m=\u001b[39mprange,state\u001b[38;5;241m=\u001b[39m\u001b[38;5;124m\"\u001b[39m\u001b[38;5;124msteady\u001b[39m\u001b[38;5;124m\"\u001b[39m,model\u001b[38;5;241m=\u001b[39m\u001b[38;5;124m\"\u001b[39m\u001b[38;5;124mvogel\u001b[39m\u001b[38;5;124m\"\u001b[39m)\n\u001b[0;32m      3\u001b[0m q_pseudo_vogel \u001b[38;5;241m=\u001b[39m inflow\u001b[38;5;241m.\u001b[39msaturated(Pres,pwf\u001b[38;5;241m=\u001b[39mprange,state\u001b[38;5;241m=\u001b[39m\u001b[38;5;124m\"\u001b[39m\u001b[38;5;124mpseudo\u001b[39m\u001b[38;5;124m\"\u001b[39m,model\u001b[38;5;241m=\u001b[39m\u001b[38;5;124m\"\u001b[39m\u001b[38;5;124mvogel\u001b[39m\u001b[38;5;124m\"\u001b[39m)\n",
      "File \u001b[1;32m~\\Documents\\GitHub\\prodpy\\IPRcurve.py:79\u001b[0m, in \u001b[0;36mIPR.saturated\u001b[1;34m(self, pres, pwf, state, **kwargs)\u001b[0m\n\u001b[0;32m     75\u001b[0m rate \u001b[38;5;241m=\u001b[39m numpy\u001b[38;5;241m.\u001b[39mzeros(pwf\u001b[38;5;241m.\u001b[39mshape)\n\u001b[0;32m     77\u001b[0m rate[pwf\u001b[38;5;241m<\u001b[39m\u001b[38;5;241m0\u001b[39m] \u001b[38;5;241m=\u001b[39m numpy\u001b[38;5;241m.\u001b[39mnan\n\u001b[1;32m---> 79\u001b[0m PI \u001b[38;5;241m=\u001b[39m \u001b[38;5;28mgetattr\u001b[39m(\u001b[38;5;28mself\u001b[39m,\u001b[38;5;124mf\u001b[39m\u001b[38;5;124m\"\u001b[39m\u001b[38;5;124mpi_\u001b[39m\u001b[38;5;132;01m{\u001b[39;00mstate\u001b[38;5;132;01m}\u001b[39;00m\u001b[38;5;124m\"\u001b[39m)(\u001b[38;5;241m*\u001b[39m\u001b[38;5;241m*\u001b[39mkwargs)\n\u001b[0;32m     81\u001b[0m rate[pwf\u001b[38;5;241m>\u001b[39m\u001b[38;5;28mself\u001b[39m\u001b[38;5;241m.\u001b[39mpb] \u001b[38;5;241m=\u001b[39m PI\u001b[38;5;241m*\u001b[39m(pres\u001b[38;5;241m-\u001b[39mpwf[pwf\u001b[38;5;241m>\u001b[39m\u001b[38;5;28mself\u001b[39m\u001b[38;5;241m.\u001b[39mpb])\n\u001b[0;32m     83\u001b[0m TP \u001b[38;5;241m=\u001b[39m (\u001b[38;5;241m1\u001b[39m\u001b[38;5;241m-\u001b[39m\u001b[38;5;241m0.2\u001b[39m\u001b[38;5;241m*\u001b[39m(pwf[pwf\u001b[38;5;241m<\u001b[39m\u001b[38;5;241m=\u001b[39m\u001b[38;5;28mself\u001b[39m\u001b[38;5;241m.\u001b[39mpb]\u001b[38;5;241m/\u001b[39m\u001b[38;5;28mself\u001b[39m\u001b[38;5;241m.\u001b[39mpb)\u001b[38;5;241m-\u001b[39m\u001b[38;5;241m0.8\u001b[39m\u001b[38;5;241m*\u001b[39m(pwf[pwf\u001b[38;5;241m<\u001b[39m\u001b[38;5;241m=\u001b[39m\u001b[38;5;28mself\u001b[39m\u001b[38;5;241m.\u001b[39mpb]\u001b[38;5;241m/\u001b[39m\u001b[38;5;28mself\u001b[39m\u001b[38;5;241m.\u001b[39mpb)\u001b[38;5;241m*\u001b[39m\u001b[38;5;241m*\u001b[39m\u001b[38;5;241m2\u001b[39m)\n",
      "\u001b[1;31mTypeError\u001b[0m: pi_transient() got an unexpected keyword argument 'model'"
     ]
    }
   ],
   "source": [
    "q_transt_vogel = inflow.saturated(Pres,pwf=prange,model=\"vogel\",regime=\"transient\",time=30)\n",
    "q_steady_vogel = inflow.saturated(Pres,pwf=prange,model=\"vogel\",regime=\"steady\")\n",
    "q_pseudo_vogel = inflow.saturated(Pres,pwf=prange,model=\"vogel\",regime=\"pseudo\")"
   ]
  },
  {
   "cell_type": "code",
   "execution_count": null,
   "id": "0f5b4475-084f-49e7-a7d2-f0d8c71b972c",
   "metadata": {},
   "outputs": [],
   "source": [
    "q_transt_fetkovich = inflow.saturated(Pres,pwf=prange,model=\"fetkovich\",n=2,regime=\"transient\",time=30)\n",
    "q_steady_fetkovich = inflow.saturated(Pres,pwf=prange,model=\"fetkovich\",n=2,regime=\"steady\")\n",
    "q_pseudo_fetkovich = inflow.saturated(Pres,pwf=prange,model=\"fetkovich\",n=2,regime=\"pseudo\")"
   ]
  },
  {
   "cell_type": "code",
   "execution_count": null,
   "id": "b232b036-5bde-4b7d-9e5f-b849f4a22fb7",
   "metadata": {},
   "outputs": [],
   "source": [
    "plt.plot(q_transt,prange,label='Transient, 30 days')\n",
    "plt.plot(q_steady,prange,label='Steady State')\n",
    "plt.plot(q_pseudo,prange,label='Pseudo-Steady State')\n",
    "\n",
    "plt.legend()\n",
    "\n",
    "plt.xlim(xmin=0)\n",
    "plt.ylim(ymin=0)\n",
    "\n",
    "plt.show()"
   ]
  },
  {
   "cell_type": "markdown",
   "id": "440cb57e-211b-420d-af56-15b1fc0a9e0e",
   "metadata": {},
   "source": [
    "# Partial Two-Phase Reservoirs"
   ]
  },
  {
   "cell_type": "code",
   "execution_count": null,
   "id": "81b1136f-5791-4092-8a8c-d46a2505aaaf",
   "metadata": {},
   "outputs": [],
   "source": [
    "q_transt_vogel = inflow.partial(Pres,pwf=prange,model=\"vogel\",regime=\"transient\",time=30)\n",
    "q_steady_vogel = inflow.partial(Pres,pwf=prange,model=\"vogel\",regime=\"steady\")\n",
    "q_pseudo_vogel = inflow.partial(Pres,pwf=prange,model=\"vogel\",regime=\"pseudo\")"
   ]
  },
  {
   "cell_type": "code",
   "execution_count": null,
   "id": "c5ff9b7e-eb2e-4082-a10c-b6cf2b0d8f6a",
   "metadata": {},
   "outputs": [],
   "source": [
    "q_transt_fetkovich = inflow.partial(Pres,pwf=prange,model=\"fetkovich\",n=2,regime=\"transient\",time=30)\n",
    "q_steady_fetkovich = inflow.partial(Pres,pwf=prange,model=\"fetkovich\",n=2,regime=\"steady\")\n",
    "q_pseudo_fetkovich = inflow.partial(Pres,pwf=prange,model=\"fetkovich\",n=2,regime=\"pseudo\")"
   ]
  }
 ],
 "metadata": {
  "kernelspec": {
   "display_name": "Python 3 (ipykernel)",
   "language": "python",
   "name": "python3"
  },
  "language_info": {
   "codemirror_mode": {
    "name": "ipython",
    "version": 3
   },
   "file_extension": ".py",
   "mimetype": "text/x-python",
   "name": "python",
   "nbconvert_exporter": "python",
   "pygments_lexer": "ipython3",
   "version": "3.9.7"
  }
 },
 "nbformat": 4,
 "nbformat_minor": 5
}
