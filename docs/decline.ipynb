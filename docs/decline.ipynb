{
 "cells": [
  {
   "cell_type": "code",
   "execution_count": 1,
   "id": "6948d765-8338-4881-b40b-933835f3eb72",
   "metadata": {},
   "outputs": [],
   "source": [
    "# import datetime"
   ]
  },
  {
   "cell_type": "code",
   "execution_count": 2,
   "id": "59d2a439-9a93-474b-b253-fcf1df8ad60f",
   "metadata": {},
   "outputs": [],
   "source": [
    "# from dateutil.relativedelta import relativedelta"
   ]
  },
  {
   "cell_type": "code",
   "execution_count": 3,
   "id": "cc7e3a4a-cd51-4b7f-a19d-1a4ffd0ae57c",
   "metadata": {},
   "outputs": [],
   "source": [
    "# import ipywidgets as widgets"
   ]
  },
  {
   "cell_type": "code",
   "execution_count": 4,
   "id": "9ede2547-43b9-4256-85d0-4923ccba6f50",
   "metadata": {},
   "outputs": [],
   "source": [
    "# from IPython.display import display"
   ]
  },
  {
   "cell_type": "code",
   "execution_count": 1,
   "id": "8b63ca8b-7631-4e37-8597-8908f34074c8",
   "metadata": {},
   "outputs": [],
   "source": [
    "# import numpy as np\n",
    "import pandas as pd"
   ]
  },
  {
   "cell_type": "code",
   "execution_count": 4,
   "id": "7d1e732e-8d47-4893-86e0-c59089d91e6e",
   "metadata": {},
   "outputs": [],
   "source": [
    "file = pd.ExcelFile(r\"C:\\Users\\3876yl\\OneDrive - BP\\Documents\\ACG_decline_curve_analysis - Copy.xlsx\")  "
   ]
  },
  {
   "cell_type": "code",
   "execution_count": 6,
   "id": "445ffb3a-b68d-4567-9de9-ac3d89b7ccbe",
   "metadata": {},
   "outputs": [],
   "source": [
    "with file as xls:\n",
    "    df = pd.read_excel(xls)"
   ]
  },
  {
   "cell_type": "code",
   "execution_count": 5,
   "id": "556fdec1-378d-4f5f-9301-75adc3bc8af3",
   "metadata": {},
   "outputs": [
    {
     "data": {
      "text/plain": [
       "['test_data', 'Sheet1']"
      ]
     },
     "execution_count": 5,
     "metadata": {},
     "output_type": "execute_result"
    }
   ],
   "source": [
    "file.sheet_names"
   ]
  },
  {
   "cell_type": "code",
   "execution_count": 6,
   "id": "e1c3d028-83a4-486e-a55e-ed45401b194e",
   "metadata": {},
   "outputs": [],
   "source": [
    "# from plotly.subplots import make_subplots\n",
    "# import plotly.graph_objects as go"
   ]
  },
  {
   "cell_type": "code",
   "execution_count": 7,
   "id": "43ab8f98-b9e4-4c12-b036-c3a3e6c3952a",
   "metadata": {},
   "outputs": [],
   "source": [
    "import sys\n",
    "sys.path.append(r'C:\\Users\\3876yl\\Documents\\prodpy')\n",
    "# sys.path.append(r'C:\\Users\\user\\Documents\\GitHub\\prodpy')"
   ]
  },
  {
   "cell_type": "code",
   "execution_count": 8,
   "id": "cf633748-c23b-47f0-aead-0ca6fa8e318f",
   "metadata": {},
   "outputs": [
    {
     "name": "stderr",
     "output_type": "stream",
     "text": [
      "2024-06-03 11:47:28.710 WARNING streamlit.runtime.caching.cache_data_api: No runtime found, using MemoryCacheStorageManager\n"
     ]
    }
   ],
   "source": [
    "from prodpy import timeview as tv"
   ]
  },
  {
   "cell_type": "code",
   "execution_count": 9,
   "id": "b1bfab97-e164-4586-9084-b1e4437ed433",
   "metadata": {},
   "outputs": [],
   "source": [
    "# from prodpy import decline as dc"
   ]
  },
  {
   "cell_type": "code",
   "execution_count": 10,
   "id": "10ef6eb8-3e80-4550-a154-93c2720ef056",
   "metadata": {},
   "outputs": [],
   "source": [
    "# df = pd.read_excel(r\"C:\\Users\\3876yl\\Downloads\\ACG_dashboard_XL-4Q-2023.xlsx\")\n",
    "df = pd.read_excel(r\"C:\\Users\\3876yl\\OneDrive - BP\\Documents\\ACG_decline_curve_analysis.xlsx\")\n",
    "# df = pd.read_excel(r\"C:\\Users\\user\\Downloads\\ACG_decline_curve_analysis.xlsx\")"
   ]
  },
  {
   "cell_type": "code",
   "execution_count": null,
   "id": "8ff84ea1-12e0-498e-94d0-f98da6469efd",
   "metadata": {},
   "outputs": [],
   "source": []
  },
  {
   "cell_type": "code",
   "execution_count": 11,
   "id": "c9aaed11-48b5-4689-b848-86a57bf208fd",
   "metadata": {},
   "outputs": [
    {
     "data": {
      "text/plain": [
       "Index(['Field', 'Platform', 'Flank', 'Depletion Region', 'Well', 'Date',\n",
       "       'Start Date', 'End Date', 'Duty', 'DTS', 'DHPTG', 'Completion Zones',\n",
       "       'Actual Oil, Mstb/d', 'Actual Gas, MMscf/d', 'Actual Water, Mstb/d',\n",
       "       'Actual GI, MMscf/d', 'Actual WI, Mstb/d', 'Actual Gas Lift, MMscf/d'],\n",
       "      dtype='object')"
      ]
     },
     "execution_count": 11,
     "metadata": {},
     "output_type": "execute_result"
    }
   ],
   "source": [
    "df.columns"
   ]
  },
  {
   "cell_type": "code",
   "execution_count": 22,
   "id": "d02b9b8f-9d2e-4187-b153-542bc2d8e45c",
   "metadata": {},
   "outputs": [],
   "source": [
    "data = tv.Outlook(df,datehead='Date')"
   ]
  },
  {
   "cell_type": "code",
   "execution_count": 23,
   "id": "e34613b4-0505-4d76-b8ec-4fda8e656794",
   "metadata": {},
   "outputs": [
    {
     "data": {
      "text/plain": [
       "[]"
      ]
     },
     "execution_count": 23,
     "metadata": {},
     "output_type": "execute_result"
    }
   ],
   "source": [
    "data.items()"
   ]
  },
  {
   "cell_type": "code",
   "execution_count": 27,
   "id": "a83eb3a1-31be-4654-a60e-696369648fbd",
   "metadata": {},
   "outputs": [
    {
     "data": {
      "text/html": [
       "<div>\n",
       "<style scoped>\n",
       "    .dataframe tbody tr th:only-of-type {\n",
       "        vertical-align: middle;\n",
       "    }\n",
       "\n",
       "    .dataframe tbody tr th {\n",
       "        vertical-align: top;\n",
       "    }\n",
       "\n",
       "    .dataframe thead th {\n",
       "        text-align: right;\n",
       "    }\n",
       "</style>\n",
       "<table border=\"1\" class=\"dataframe\">\n",
       "  <thead>\n",
       "    <tr style=\"text-align: right;\">\n",
       "      <th></th>\n",
       "      <th>Aggregate</th>\n",
       "      <th>Date</th>\n",
       "      <th>Actual GI, MMscf/d</th>\n",
       "      <th>Actual Oil, Mstb/d</th>\n",
       "      <th>Actual Gas Lift, MMscf/d</th>\n",
       "      <th>Actual Water, Mstb/d</th>\n",
       "      <th>Actual Gas, MMscf/d</th>\n",
       "      <th>Actual WI, Mstb/d</th>\n",
       "    </tr>\n",
       "  </thead>\n",
       "  <tbody>\n",
       "    <tr>\n",
       "      <th>0</th>\n",
       "      <td></td>\n",
       "      <td>1997-11-30</td>\n",
       "      <td>0.000000</td>\n",
       "      <td>3.772226</td>\n",
       "      <td>0</td>\n",
       "      <td>0.000000</td>\n",
       "      <td>3.115728</td>\n",
       "      <td>0.000000</td>\n",
       "    </tr>\n",
       "    <tr>\n",
       "      <th>1</th>\n",
       "      <td></td>\n",
       "      <td>1997-12-31</td>\n",
       "      <td>0.000000</td>\n",
       "      <td>8.208898</td>\n",
       "      <td>0</td>\n",
       "      <td>0.000000</td>\n",
       "      <td>6.620418</td>\n",
       "      <td>0.000000</td>\n",
       "    </tr>\n",
       "    <tr>\n",
       "      <th>2</th>\n",
       "      <td></td>\n",
       "      <td>1998-01-31</td>\n",
       "      <td>0.000000</td>\n",
       "      <td>10.172209</td>\n",
       "      <td>0</td>\n",
       "      <td>0.000000</td>\n",
       "      <td>8.819779</td>\n",
       "      <td>0.000000</td>\n",
       "    </tr>\n",
       "    <tr>\n",
       "      <th>3</th>\n",
       "      <td></td>\n",
       "      <td>1998-02-28</td>\n",
       "      <td>0.000000</td>\n",
       "      <td>9.805701</td>\n",
       "      <td>0</td>\n",
       "      <td>0.000000</td>\n",
       "      <td>9.550603</td>\n",
       "      <td>0.000000</td>\n",
       "    </tr>\n",
       "    <tr>\n",
       "      <th>4</th>\n",
       "      <td></td>\n",
       "      <td>1998-03-31</td>\n",
       "      <td>0.000000</td>\n",
       "      <td>23.189113</td>\n",
       "      <td>0</td>\n",
       "      <td>0.000000</td>\n",
       "      <td>18.891474</td>\n",
       "      <td>0.000000</td>\n",
       "    </tr>\n",
       "    <tr>\n",
       "      <th>...</th>\n",
       "      <td>...</td>\n",
       "      <td>...</td>\n",
       "      <td>...</td>\n",
       "      <td>...</td>\n",
       "      <td>...</td>\n",
       "      <td>...</td>\n",
       "      <td>...</td>\n",
       "      <td>...</td>\n",
       "    </tr>\n",
       "    <tr>\n",
       "      <th>298</th>\n",
       "      <td></td>\n",
       "      <td>2022-09-30</td>\n",
       "      <td>976.607142</td>\n",
       "      <td>399.457783</td>\n",
       "      <td>0</td>\n",
       "      <td>156.823667</td>\n",
       "      <td>1214.132654</td>\n",
       "      <td>346.589064</td>\n",
       "    </tr>\n",
       "    <tr>\n",
       "      <th>299</th>\n",
       "      <td></td>\n",
       "      <td>2022-10-31</td>\n",
       "      <td>985.973021</td>\n",
       "      <td>404.120207</td>\n",
       "      <td>0</td>\n",
       "      <td>161.653585</td>\n",
       "      <td>1240.519767</td>\n",
       "      <td>331.247997</td>\n",
       "    </tr>\n",
       "    <tr>\n",
       "      <th>300</th>\n",
       "      <td></td>\n",
       "      <td>2022-11-30</td>\n",
       "      <td>884.976364</td>\n",
       "      <td>408.296422</td>\n",
       "      <td>0</td>\n",
       "      <td>160.314460</td>\n",
       "      <td>1308.835469</td>\n",
       "      <td>389.639127</td>\n",
       "    </tr>\n",
       "    <tr>\n",
       "      <th>301</th>\n",
       "      <td></td>\n",
       "      <td>2022-12-31</td>\n",
       "      <td>1028.372861</td>\n",
       "      <td>407.537273</td>\n",
       "      <td>0</td>\n",
       "      <td>155.977167</td>\n",
       "      <td>1349.108209</td>\n",
       "      <td>400.724753</td>\n",
       "    </tr>\n",
       "    <tr>\n",
       "      <th>302</th>\n",
       "      <td></td>\n",
       "      <td>2023-01-31</td>\n",
       "      <td>1029.308325</td>\n",
       "      <td>392.121708</td>\n",
       "      <td>0</td>\n",
       "      <td>156.798825</td>\n",
       "      <td>1323.066911</td>\n",
       "      <td>406.011176</td>\n",
       "    </tr>\n",
       "  </tbody>\n",
       "</table>\n",
       "<p>303 rows × 8 columns</p>\n",
       "</div>"
      ],
      "text/plain": [
       "    Aggregate       Date  Actual GI, MMscf/d  Actual Oil, Mstb/d  \\\n",
       "0             1997-11-30            0.000000            3.772226   \n",
       "1             1997-12-31            0.000000            8.208898   \n",
       "2             1998-01-31            0.000000           10.172209   \n",
       "3             1998-02-28            0.000000            9.805701   \n",
       "4             1998-03-31            0.000000           23.189113   \n",
       "..        ...        ...                 ...                 ...   \n",
       "298           2022-09-30          976.607142          399.457783   \n",
       "299           2022-10-31          985.973021          404.120207   \n",
       "300           2022-11-30          884.976364          408.296422   \n",
       "301           2022-12-31         1028.372861          407.537273   \n",
       "302           2023-01-31         1029.308325          392.121708   \n",
       "\n",
       "     Actual Gas Lift, MMscf/d  Actual Water, Mstb/d  Actual Gas, MMscf/d  \\\n",
       "0                           0              0.000000             3.115728   \n",
       "1                           0              0.000000             6.620418   \n",
       "2                           0              0.000000             8.819779   \n",
       "3                           0              0.000000             9.550603   \n",
       "4                           0              0.000000            18.891474   \n",
       "..                        ...                   ...                  ...   \n",
       "298                         0            156.823667          1214.132654   \n",
       "299                         0            161.653585          1240.519767   \n",
       "300                         0            160.314460          1308.835469   \n",
       "301                         0            155.977167          1349.108209   \n",
       "302                         0            156.798825          1323.066911   \n",
       "\n",
       "     Actual WI, Mstb/d  \n",
       "0             0.000000  \n",
       "1             0.000000  \n",
       "2             0.000000  \n",
       "3             0.000000  \n",
       "4             0.000000  \n",
       "..                 ...  \n",
       "298         346.589064  \n",
       "299         331.247997  \n",
       "300         389.639127  \n",
       "301         400.724753  \n",
       "302         406.011176  \n",
       "\n",
       "[303 rows x 8 columns]"
      ]
     },
     "execution_count": 27,
     "metadata": {},
     "output_type": "execute_result"
    }
   ],
   "source": [
    "data.toview().frame"
   ]
  },
  {
   "cell_type": "code",
   "execution_count": null,
   "id": "a6c80449-c0a6-473b-9bad-af9b47568c68",
   "metadata": {},
   "outputs": [],
   "source": []
  }
 ],
 "metadata": {
  "kernelspec": {
   "display_name": "Python 3 (ipykernel)",
   "language": "python",
   "name": "python3"
  },
  "language_info": {
   "codemirror_mode": {
    "name": "ipython",
    "version": 3
   },
   "file_extension": ".py",
   "mimetype": "text/x-python",
   "name": "python",
   "nbconvert_exporter": "python",
   "pygments_lexer": "ipython3",
   "version": "3.12.0"
  }
 },
 "nbformat": 4,
 "nbformat_minor": 5
}
