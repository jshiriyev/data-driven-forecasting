{
 "cells": [
  {
   "cell_type": "code",
   "execution_count": 1,
   "id": "6948d765-8338-4881-b40b-933835f3eb72",
   "metadata": {},
   "outputs": [],
   "source": [
    "import datetime"
   ]
  },
  {
   "cell_type": "code",
   "execution_count": 2,
   "id": "59d2a439-9a93-474b-b253-fcf1df8ad60f",
   "metadata": {},
   "outputs": [],
   "source": [
    "from dateutil.relativedelta import relativedelta"
   ]
  },
  {
   "cell_type": "code",
   "execution_count": 3,
   "id": "cc7e3a4a-cd51-4b7f-a19d-1a4ffd0ae57c",
   "metadata": {},
   "outputs": [],
   "source": [
    "import ipywidgets as widgets"
   ]
  },
  {
   "cell_type": "code",
   "execution_count": 4,
   "id": "9ede2547-43b9-4256-85d0-4923ccba6f50",
   "metadata": {},
   "outputs": [],
   "source": [
    "from IPython.display import display"
   ]
  },
  {
   "cell_type": "code",
   "execution_count": 5,
   "id": "8b63ca8b-7631-4e37-8597-8908f34074c8",
   "metadata": {},
   "outputs": [],
   "source": [
    "import numpy as np\n",
    "import pandas as pd"
   ]
  },
  {
   "cell_type": "code",
   "execution_count": 6,
   "id": "e1c3d028-83a4-486e-a55e-ed45401b194e",
   "metadata": {},
   "outputs": [],
   "source": [
    "# from plotly.subplots import make_subplots\n",
    "import plotly.graph_objects as go"
   ]
  },
  {
   "cell_type": "code",
   "execution_count": 7,
   "id": "43ab8f98-b9e4-4c12-b036-c3a3e6c3952a",
   "metadata": {},
   "outputs": [],
   "source": [
    "import sys\n",
    "sys.path.append(r'C:\\Users\\3876yl\\Documents\\prodpy')\n",
    "# sys.path.append(r'C:\\Users\\user\\Documents\\GitHub\\prodpy')"
   ]
  },
  {
   "cell_type": "code",
   "execution_count": 8,
   "id": "cf633748-c23b-47f0-aead-0ca6fa8e318f",
   "metadata": {},
   "outputs": [
    {
     "name": "stderr",
     "output_type": "stream",
     "text": [
      "2024-05-20 14:50:28.465 WARNING streamlit.runtime.caching.cache_data_api: No runtime found, using MemoryCacheStorageManager\n"
     ]
    }
   ],
   "source": [
    "from prodpy import timeview as tv\n",
    "from prodpy import decline as dc"
   ]
  },
  {
   "cell_type": "code",
   "execution_count": 13,
   "id": "a27ea0c5-c4c2-4e93-b8b3-7885ad8981b3",
   "metadata": {},
   "outputs": [],
   "source": [
    "data = tv.Outlook(pd.DataFrame())"
   ]
  },
  {
   "cell_type": "code",
   "execution_count": 14,
   "id": "0abeab3f-e831-4567-9e5a-3dac2fedb6d7",
   "metadata": {},
   "outputs": [
    {
     "data": {
      "text/plain": [
       "<prodpy.timeview._outlook.Outlook at 0x23d8dd87bf0>"
      ]
     },
     "execution_count": 14,
     "metadata": {},
     "output_type": "execute_result"
    }
   ],
   "source": [
    "data"
   ]
  },
  {
   "cell_type": "code",
   "execution_count": 15,
   "id": "4826972d-7769-4614-b52a-8bc2e856d83c",
   "metadata": {},
   "outputs": [
    {
     "data": {
      "text/plain": [
       "[]"
      ]
     },
     "execution_count": 15,
     "metadata": {},
     "output_type": "execute_result"
    }
   ],
   "source": [
    "data.dates"
   ]
  },
  {
   "cell_type": "code",
   "execution_count": 16,
   "id": "4209abc4-17fd-4c83-81c5-104ac8a136a1",
   "metadata": {},
   "outputs": [
    {
     "data": {
      "text/plain": [
       "[]"
      ]
     },
     "execution_count": 16,
     "metadata": {},
     "output_type": "execute_result"
    }
   ],
   "source": [
    "data.numbers"
   ]
  },
  {
   "cell_type": "code",
   "execution_count": 17,
   "id": "ac097773-77b9-4bc6-b336-0cab3968963d",
   "metadata": {},
   "outputs": [
    {
     "data": {
      "text/plain": [
       "[]"
      ]
     },
     "execution_count": 17,
     "metadata": {},
     "output_type": "execute_result"
    }
   ],
   "source": [
    "data.groups"
   ]
  },
  {
   "cell_type": "code",
   "execution_count": 19,
   "id": "986c17f4-dcf9-48c6-860b-a6565ca4e1b6",
   "metadata": {},
   "outputs": [],
   "source": [
    "view = tv.ItemView(data.frame)"
   ]
  },
  {
   "cell_type": "code",
   "execution_count": 20,
   "id": "e628d15c-3c35-4356-bb43-3cf37f6c42dc",
   "metadata": {},
   "outputs": [
    {
     "data": {
      "text/plain": [
       "True"
      ]
     },
     "execution_count": 20,
     "metadata": {},
     "output_type": "execute_result"
    }
   ],
   "source": [
    "view.empty"
   ]
  },
  {
   "cell_type": "code",
   "execution_count": 22,
   "id": "eb8896e8-8fe9-4164-931b-1730dc6a63e5",
   "metadata": {},
   "outputs": [
    {
     "name": "stdout",
     "output_type": "stream",
     "text": [
      "None\n"
     ]
    }
   ],
   "source": [
    "print(view.batch)"
   ]
  },
  {
   "cell_type": "code",
   "execution_count": 23,
   "id": "217ee5bb-9999-414b-9f28-772efebe7eec",
   "metadata": {},
   "outputs": [
    {
     "data": {
      "text/html": [
       "<div>\n",
       "<style scoped>\n",
       "    .dataframe tbody tr th:only-of-type {\n",
       "        vertical-align: middle;\n",
       "    }\n",
       "\n",
       "    .dataframe tbody tr th {\n",
       "        vertical-align: top;\n",
       "    }\n",
       "\n",
       "    .dataframe thead th {\n",
       "        text-align: right;\n",
       "    }\n",
       "</style>\n",
       "<table border=\"1\" class=\"dataframe\">\n",
       "  <thead>\n",
       "    <tr style=\"text-align: right;\">\n",
       "      <th></th>\n",
       "    </tr>\n",
       "  </thead>\n",
       "  <tbody>\n",
       "  </tbody>\n",
       "</table>\n",
       "</div>"
      ],
      "text/plain": [
       "Empty DataFrame\n",
       "Columns: []\n",
       "Index: []"
      ]
     },
     "execution_count": 23,
     "metadata": {},
     "output_type": "execute_result"
    }
   ],
   "source": [
    "view.filter('Name')"
   ]
  },
  {
   "cell_type": "code",
   "execution_count": 27,
   "id": "81b85679-5e41-4ef7-b45e-615920ef4d9a",
   "metadata": {},
   "outputs": [
    {
     "data": {
      "text/plain": [
       "[]"
      ]
     },
     "execution_count": 27,
     "metadata": {},
     "output_type": "execute_result"
    }
   ],
   "source": [
    "view.items"
   ]
  },
  {
   "cell_type": "code",
   "execution_count": 25,
   "id": "e6b3fa16-246b-4ed1-a960-673376b1d154",
   "metadata": {},
   "outputs": [
    {
     "data": {
      "text/plain": [
       "datetime.date(2030, 1, 1)"
      ]
     },
     "execution_count": 25,
     "metadata": {},
     "output_type": "execute_result"
    }
   ],
   "source": [
    "view.maxdate"
   ]
  },
  {
   "cell_type": "code",
   "execution_count": 26,
   "id": "e2dbe592-e300-4665-a192-4d81c952e34c",
   "metadata": {},
   "outputs": [
    {
     "data": {
      "text/plain": [
       "(datetime.date(2020, 1, 1), datetime.date(2030, 1, 1))"
      ]
     },
     "execution_count": 26,
     "metadata": {},
     "output_type": "execute_result"
    }
   ],
   "source": [
    "view.limit"
   ]
  },
  {
   "cell_type": "code",
   "execution_count": 9,
   "id": "10ef6eb8-3e80-4550-a154-93c2720ef056",
   "metadata": {},
   "outputs": [],
   "source": [
    "df = pd.read_excel(r\"C:\\Users\\3876yl\\OneDrive - BP\\Documents\\ACG_decline_curve_analysis.xlsx\")\n",
    "# df = pd.read_excel(r\"C:\\Users\\user\\Downloads\\ACG_decline_curve_analysis.xlsx\")"
   ]
  },
  {
   "cell_type": "code",
   "execution_count": 10,
   "id": "c9aaed11-48b5-4689-b848-86a57bf208fd",
   "metadata": {},
   "outputs": [
    {
     "data": {
      "text/plain": [
       "Index(['Field', 'Platform', 'Flank', 'Depletion Region', 'Well', 'Date',\n",
       "       'Start Date', 'End Date', 'Duty', 'DTS', 'DHPTG', 'Completion Zones',\n",
       "       'Actual Oil, Mstb/d', 'Actual Gas, MMscf/d', 'Actual Water, Mstb/d',\n",
       "       'Actual GI, MMscf/d', 'Actual WI, Mstb/d', 'Actual Gas Lift, MMscf/d'],\n",
       "      dtype='object')"
      ]
     },
     "execution_count": 10,
     "metadata": {},
     "output_type": "execute_result"
    }
   ],
   "source": [
    "df.columns"
   ]
  },
  {
   "cell_type": "code",
   "execution_count": 11,
   "id": "ad9a95cb-744b-43f5-894a-b2d601b54c16",
   "metadata": {},
   "outputs": [],
   "source": [
    "data = tv.Outlook(df)"
   ]
  },
  {
   "cell_type": "code",
   "execution_count": 12,
   "id": "08bea830-c570-4d5f-acee-b5171ee2e355",
   "metadata": {},
   "outputs": [],
   "source": [
    "view = data('Date').view('Field',numbers=['Actual Oil, Mstb/d'])"
   ]
  },
  {
   "cell_type": "code",
   "execution_count": 13,
   "id": "6c96054d-50b4-4168-b0be-ab6d0ac11447",
   "metadata": {},
   "outputs": [],
   "source": [
    "frame = view.filter('Azeri')"
   ]
  },
  {
   "cell_type": "code",
   "execution_count": 14,
   "id": "7467d622-4cbc-4a6c-b0ab-a4087fde22c7",
   "metadata": {},
   "outputs": [],
   "source": [
    "dca = dc.Analysis('Date','Actual Oil, Mstb/d')"
   ]
  },
  {
   "cell_type": "code",
   "execution_count": 15,
   "id": "35602618-d204-4d66-8621-3f94f7b1501a",
   "metadata": {},
   "outputs": [
    {
     "data": {
      "text/plain": [
       "relativedelta(months=+6)"
      ]
     },
     "execution_count": 15,
     "metadata": {},
     "output_type": "execute_result"
    }
   ],
   "source": [
    "relativedelta(months=6)"
   ]
  },
  {
   "cell_type": "code",
   "execution_count": 16,
   "id": "ea22ae72-5570-4c3a-9ba9-67213a6be11b",
   "metadata": {},
   "outputs": [
    {
     "data": {
      "text/plain": [
       "datetime.date(2023, 7, 31)"
      ]
     },
     "execution_count": 16,
     "metadata": {},
     "output_type": "execute_result"
    }
   ],
   "source": [
    "dca.get_dateL(frame['Date'])+relativedelta(months=6)"
   ]
  },
  {
   "cell_type": "code",
   "execution_count": 20,
   "id": "e2688cdc-3257-418b-bf3b-a74bd043610e",
   "metadata": {},
   "outputs": [],
   "source": [
    "def slider(months):\n",
    "\n",
    "    model = dca(frame).fit(\n",
    "        mode = 'Harmonic',\n",
    "        start = datetime.date(2005,2,1)+relativedelta(months=months),\n",
    "        end   = datetime.date(2023,2,1),\n",
    "        # start = datetime.date(2010,1,1),\n",
    "        # end   = datetime.date(2023,2,1),\n",
    "    )\n",
    "    \n",
    "    print(model)\n",
    "    \n",
    "    curve = dca(frame).run(\n",
    "        model,\n",
    "        end   = datetime.date(2025,1,1),\n",
    "    )\n",
    "\n",
    "    fig = go.Figure()\n",
    "    \n",
    "    data1 = go.Scatter(x=frame['Date'],y=frame['Actual Oil, Mstb/d'],mode='markers')\n",
    "    \n",
    "    fig.add_trace(data1)\n",
    "    \n",
    "    data2 = go.Scatter(x=curve['dates'],y=curve['rates'],mode='lines',line=dict(color=\"red\"))\n",
    "    \n",
    "    fig.add_trace(data2)\n",
    "\n",
    "    fig.show()"
   ]
  },
  {
   "cell_type": "code",
   "execution_count": 21,
   "id": "56970122-c76a-47df-997f-60314b04cb3b",
   "metadata": {},
   "outputs": [
    {
     "data": {
      "application/vnd.jupyter.widget-view+json": {
       "model_id": "43bddb2011984bffbc829b8244a6db02",
       "version_major": 2,
       "version_minor": 0
      },
      "text/plain": [
       "interactive(children=(IntSlider(value=100, description='months', max=200), Output()), _dom_classes=('widget-in…"
      ]
     },
     "metadata": {},
     "output_type": "display_data"
    }
   ],
   "source": [
    "w = widgets.interact(slider,months=(0,200))"
   ]
  },
  {
   "cell_type": "code",
   "execution_count": 19,
   "id": "cfd54536-5d58-4dec-b17b-11c47437d9fb",
   "metadata": {},
   "outputs": [],
   "source": [
    "# fig.update_layout(\n",
    "#     height = 1000,\n",
    "#     title = 'None Rates',\n",
    "#     xaxis_title = 'Date Time',\n",
    "#     yaxis_title = 'Actual Oil, Mstb/d',\n",
    "    \n",
    "#     )"
   ]
  }
 ],
 "metadata": {
  "kernelspec": {
   "display_name": "Python 3 (ipykernel)",
   "language": "python",
   "name": "python3"
  },
  "language_info": {
   "codemirror_mode": {
    "name": "ipython",
    "version": 3
   },
   "file_extension": ".py",
   "mimetype": "text/x-python",
   "name": "python",
   "nbconvert_exporter": "python",
   "pygments_lexer": "ipython3",
   "version": "3.12.0"
  }
 },
 "nbformat": 4,
 "nbformat_minor": 5
}
