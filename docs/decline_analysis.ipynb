{
 "cells": [
  {
   "cell_type": "code",
   "execution_count": 1,
   "id": "6948d765-8338-4881-b40b-933835f3eb72",
   "metadata": {},
   "outputs": [],
   "source": [
    "import datetime"
   ]
  },
  {
   "cell_type": "code",
   "execution_count": 2,
   "id": "8b63ca8b-7631-4e37-8597-8908f34074c8",
   "metadata": {},
   "outputs": [],
   "source": [
    "import numpy as np"
   ]
  },
  {
   "cell_type": "code",
   "execution_count": 3,
   "id": "5d569177-893d-4d0d-aa4a-9c2a28e7333c",
   "metadata": {},
   "outputs": [],
   "source": [
    "import pandas as pd"
   ]
  },
  {
   "cell_type": "code",
   "execution_count": 4,
   "id": "e1c3d028-83a4-486e-a55e-ed45401b194e",
   "metadata": {},
   "outputs": [],
   "source": [
    "from plotly.subplots import make_subplots\n",
    "import plotly.graph_objects as go"
   ]
  },
  {
   "cell_type": "code",
   "execution_count": 5,
   "id": "43ab8f98-b9e4-4c12-b036-c3a3e6c3952a",
   "metadata": {},
   "outputs": [],
   "source": [
    "import sys\n",
    "sys.path.append(r'C:\\Users\\3876yl\\Documents\\prodpy')\n",
    "# sys.path.append(r'C:\\Users\\user\\Documents\\GitHub\\prodpy')"
   ]
  },
  {
   "cell_type": "code",
   "execution_count": 6,
   "id": "cf633748-c23b-47f0-aead-0ca6fa8e318f",
   "metadata": {},
   "outputs": [
    {
     "name": "stderr",
     "output_type": "stream",
     "text": [
      "2024-05-14 17:08:43.520 WARNING streamlit.runtime.caching.cache_data_api: No runtime found, using MemoryCacheStorageManager\n"
     ]
    }
   ],
   "source": [
    "from prodpy import timeview as tv\n",
    "from prodpy import decline as dc"
   ]
  },
  {
   "cell_type": "code",
   "execution_count": 7,
   "id": "10ef6eb8-3e80-4550-a154-93c2720ef056",
   "metadata": {},
   "outputs": [],
   "source": [
    "df = pd.read_excel(r\"C:\\Users\\3876yl\\OneDrive - BP\\Documents\\ACG_decline_curve_analysis.xlsx\")\n",
    "# df = pd.read_excel(r\"C:\\Users\\user\\Downloads\\ACG_decline_curve_analysis.xlsx\")"
   ]
  },
  {
   "cell_type": "code",
   "execution_count": 8,
   "id": "c9aaed11-48b5-4689-b848-86a57bf208fd",
   "metadata": {},
   "outputs": [
    {
     "data": {
      "text/plain": [
       "Index(['Field', 'Platform', 'Flank', 'Depletion Region', 'Well', 'Date',\n",
       "       'Start Date', 'End Date', 'Duty', 'DTS', 'DHPTG', 'Completion Zones',\n",
       "       'Actual Oil, Mstb/d', 'Actual Gas, MMscf/d', 'Actual Water, Mstb/d',\n",
       "       'Actual GI, MMscf/d', 'Actual WI, Mstb/d', 'Actual Gas Lift, MMscf/d'],\n",
       "      dtype='object')"
      ]
     },
     "execution_count": 8,
     "metadata": {},
     "output_type": "execute_result"
    }
   ],
   "source": [
    "df.columns"
   ]
  },
  {
   "cell_type": "code",
   "execution_count": 25,
   "id": "824bed50-52bd-4322-9dc7-e96748dd3a27",
   "metadata": {},
   "outputs": [],
   "source": [
    "df.title = 'cav'"
   ]
  },
  {
   "cell_type": "code",
   "execution_count": 29,
   "id": "8a2c1fe0-dc9d-4b00-b5ff-fbf5f4c9a0ac",
   "metadata": {},
   "outputs": [
    {
     "data": {
      "text/plain": [
       "Index(['Field', 'Platform', 'Flank', 'Depletion Region', 'Well', 'Date',\n",
       "       'Start Date', 'End Date', 'Duty', 'DTS', 'DHPTG', 'Completion Zones',\n",
       "       'Actual Oil, Mstb/d', 'Actual Gas, MMscf/d', 'Actual Water, Mstb/d',\n",
       "       'Actual GI, MMscf/d', 'Actual WI, Mstb/d', 'Actual Gas Lift, MMscf/d',\n",
       "       'Field Platform'],\n",
       "      dtype='object')"
      ]
     },
     "execution_count": 29,
     "metadata": {},
     "output_type": "execute_result"
    }
   ],
   "source": [
    "df.columns"
   ]
  },
  {
   "cell_type": "code",
   "execution_count": 31,
   "id": "92d5cbcf-faa7-4c4b-b600-fddaaddf4299",
   "metadata": {},
   "outputs": [
    {
     "data": {
      "text/html": [
       "<div>\n",
       "<style scoped>\n",
       "    .dataframe tbody tr th:only-of-type {\n",
       "        vertical-align: middle;\n",
       "    }\n",
       "\n",
       "    .dataframe tbody tr th {\n",
       "        vertical-align: top;\n",
       "    }\n",
       "\n",
       "    .dataframe thead th {\n",
       "        text-align: right;\n",
       "    }\n",
       "</style>\n",
       "<table border=\"1\" class=\"dataframe\">\n",
       "  <thead>\n",
       "    <tr style=\"text-align: right;\">\n",
       "      <th></th>\n",
       "      <th>Platform</th>\n",
       "      <th>Flank</th>\n",
       "      <th>Depletion Region</th>\n",
       "      <th>Well</th>\n",
       "      <th>Date</th>\n",
       "      <th>Start Date</th>\n",
       "      <th>End Date</th>\n",
       "      <th>Duty</th>\n",
       "      <th>DTS</th>\n",
       "      <th>DHPTG</th>\n",
       "      <th>Completion Zones</th>\n",
       "      <th>Actual Oil, Mstb/d</th>\n",
       "      <th>Actual Gas, MMscf/d</th>\n",
       "      <th>Actual Water, Mstb/d</th>\n",
       "      <th>Actual GI, MMscf/d</th>\n",
       "      <th>Actual WI, Mstb/d</th>\n",
       "      <th>Actual Gas Lift, MMscf/d</th>\n",
       "      <th>Field Platform</th>\n",
       "    </tr>\n",
       "  </thead>\n",
       "  <tbody>\n",
       "    <tr>\n",
       "      <th>0</th>\n",
       "      <td>A</td>\n",
       "      <td>South</td>\n",
       "      <td>Ch_SP</td>\n",
       "      <td>A01ST1</td>\n",
       "      <td>1997-11-30</td>\n",
       "      <td>1997-01-01</td>\n",
       "      <td>2005-11-18</td>\n",
       "      <td>Prod</td>\n",
       "      <td>No</td>\n",
       "      <td>Yes</td>\n",
       "      <td>ABCD</td>\n",
       "      <td>3.772226</td>\n",
       "      <td>3.115728</td>\n",
       "      <td>0.000000</td>\n",
       "      <td>0.0</td>\n",
       "      <td>0.000000</td>\n",
       "      <td>0</td>\n",
       "      <td>Chirag A</td>\n",
       "    </tr>\n",
       "    <tr>\n",
       "      <th>1</th>\n",
       "      <td>A</td>\n",
       "      <td>South</td>\n",
       "      <td>Ch_SP</td>\n",
       "      <td>A01ST1</td>\n",
       "      <td>1997-12-31</td>\n",
       "      <td>1997-01-01</td>\n",
       "      <td>2005-11-18</td>\n",
       "      <td>Prod</td>\n",
       "      <td>No</td>\n",
       "      <td>Yes</td>\n",
       "      <td>ABCD</td>\n",
       "      <td>7.040225</td>\n",
       "      <td>5.736733</td>\n",
       "      <td>0.000000</td>\n",
       "      <td>0.0</td>\n",
       "      <td>0.000000</td>\n",
       "      <td>0</td>\n",
       "      <td>Chirag A</td>\n",
       "    </tr>\n",
       "    <tr>\n",
       "      <th>2</th>\n",
       "      <td>A</td>\n",
       "      <td>South</td>\n",
       "      <td>Ch_SP</td>\n",
       "      <td>A01ST1</td>\n",
       "      <td>1998-01-31</td>\n",
       "      <td>1997-01-01</td>\n",
       "      <td>2005-11-18</td>\n",
       "      <td>Prod</td>\n",
       "      <td>No</td>\n",
       "      <td>Yes</td>\n",
       "      <td>ABCD</td>\n",
       "      <td>4.673162</td>\n",
       "      <td>4.571033</td>\n",
       "      <td>0.000000</td>\n",
       "      <td>0.0</td>\n",
       "      <td>0.000000</td>\n",
       "      <td>0</td>\n",
       "      <td>Chirag A</td>\n",
       "    </tr>\n",
       "    <tr>\n",
       "      <th>3</th>\n",
       "      <td>A</td>\n",
       "      <td>South</td>\n",
       "      <td>Ch_SP</td>\n",
       "      <td>A01ST1</td>\n",
       "      <td>1998-02-28</td>\n",
       "      <td>1997-01-01</td>\n",
       "      <td>2005-11-18</td>\n",
       "      <td>Prod</td>\n",
       "      <td>No</td>\n",
       "      <td>Yes</td>\n",
       "      <td>ABCD</td>\n",
       "      <td>3.445680</td>\n",
       "      <td>3.096051</td>\n",
       "      <td>0.000000</td>\n",
       "      <td>0.0</td>\n",
       "      <td>0.000000</td>\n",
       "      <td>0</td>\n",
       "      <td>Chirag A</td>\n",
       "    </tr>\n",
       "    <tr>\n",
       "      <th>4</th>\n",
       "      <td>A</td>\n",
       "      <td>South</td>\n",
       "      <td>Ch_SP</td>\n",
       "      <td>A01ST1</td>\n",
       "      <td>1998-03-31</td>\n",
       "      <td>1997-01-01</td>\n",
       "      <td>2005-11-18</td>\n",
       "      <td>Prod</td>\n",
       "      <td>No</td>\n",
       "      <td>Yes</td>\n",
       "      <td>ABCD</td>\n",
       "      <td>6.152513</td>\n",
       "      <td>5.237627</td>\n",
       "      <td>0.000000</td>\n",
       "      <td>0.0</td>\n",
       "      <td>0.000000</td>\n",
       "      <td>0</td>\n",
       "      <td>Chirag A</td>\n",
       "    </tr>\n",
       "    <tr>\n",
       "      <th>...</th>\n",
       "      <td>...</td>\n",
       "      <td>...</td>\n",
       "      <td>...</td>\n",
       "      <td>...</td>\n",
       "      <td>...</td>\n",
       "      <td>...</td>\n",
       "      <td>...</td>\n",
       "      <td>...</td>\n",
       "      <td>...</td>\n",
       "      <td>...</td>\n",
       "      <td>...</td>\n",
       "      <td>...</td>\n",
       "      <td>...</td>\n",
       "      <td>...</td>\n",
       "      <td>...</td>\n",
       "      <td>...</td>\n",
       "      <td>...</td>\n",
       "      <td>...</td>\n",
       "    </tr>\n",
       "    <tr>\n",
       "      <th>25965</th>\n",
       "      <td>J</td>\n",
       "      <td>South</td>\n",
       "      <td>WCh_SB10</td>\n",
       "      <td>J30</td>\n",
       "      <td>2022-11-30</td>\n",
       "      <td>2022-04-17</td>\n",
       "      <td>NaT</td>\n",
       "      <td>Prod</td>\n",
       "      <td>Yes</td>\n",
       "      <td>Yes</td>\n",
       "      <td>X</td>\n",
       "      <td>1.681406</td>\n",
       "      <td>2.484517</td>\n",
       "      <td>0.001700</td>\n",
       "      <td>0.0</td>\n",
       "      <td>0.000000</td>\n",
       "      <td>0</td>\n",
       "      <td>Chirag J</td>\n",
       "    </tr>\n",
       "    <tr>\n",
       "      <th>25966</th>\n",
       "      <td>J</td>\n",
       "      <td>South</td>\n",
       "      <td>WCh_SB10</td>\n",
       "      <td>J30</td>\n",
       "      <td>2022-12-31</td>\n",
       "      <td>2022-04-17</td>\n",
       "      <td>NaT</td>\n",
       "      <td>Prod</td>\n",
       "      <td>Yes</td>\n",
       "      <td>Yes</td>\n",
       "      <td>X</td>\n",
       "      <td>1.734252</td>\n",
       "      <td>4.882646</td>\n",
       "      <td>0.000453</td>\n",
       "      <td>0.0</td>\n",
       "      <td>0.000000</td>\n",
       "      <td>0</td>\n",
       "      <td>Chirag J</td>\n",
       "    </tr>\n",
       "    <tr>\n",
       "      <th>25967</th>\n",
       "      <td>J</td>\n",
       "      <td>South</td>\n",
       "      <td>WCh_SB10</td>\n",
       "      <td>J30</td>\n",
       "      <td>2023-01-31</td>\n",
       "      <td>2022-04-17</td>\n",
       "      <td>NaT</td>\n",
       "      <td>Prod</td>\n",
       "      <td>Yes</td>\n",
       "      <td>Yes</td>\n",
       "      <td>X</td>\n",
       "      <td>1.725023</td>\n",
       "      <td>7.826693</td>\n",
       "      <td>0.000000</td>\n",
       "      <td>0.0</td>\n",
       "      <td>0.000000</td>\n",
       "      <td>0</td>\n",
       "      <td>Chirag J</td>\n",
       "    </tr>\n",
       "    <tr>\n",
       "      <th>25968</th>\n",
       "      <td>J</td>\n",
       "      <td>South</td>\n",
       "      <td>Ch_SB10</td>\n",
       "      <td>J31</td>\n",
       "      <td>2022-11-30</td>\n",
       "      <td>2022-11-01</td>\n",
       "      <td>NaT</td>\n",
       "      <td>WI</td>\n",
       "      <td>Yes</td>\n",
       "      <td>Yes</td>\n",
       "      <td>XB</td>\n",
       "      <td>0.000000</td>\n",
       "      <td>0.000000</td>\n",
       "      <td>0.000000</td>\n",
       "      <td>0.0</td>\n",
       "      <td>0.563021</td>\n",
       "      <td>0</td>\n",
       "      <td>Chirag J</td>\n",
       "    </tr>\n",
       "    <tr>\n",
       "      <th>25969</th>\n",
       "      <td>J</td>\n",
       "      <td>South</td>\n",
       "      <td>Ch_SB10</td>\n",
       "      <td>J31</td>\n",
       "      <td>2022-12-31</td>\n",
       "      <td>2022-11-01</td>\n",
       "      <td>NaT</td>\n",
       "      <td>WI</td>\n",
       "      <td>Yes</td>\n",
       "      <td>Yes</td>\n",
       "      <td>XB</td>\n",
       "      <td>0.000000</td>\n",
       "      <td>0.000000</td>\n",
       "      <td>0.000000</td>\n",
       "      <td>0.0</td>\n",
       "      <td>0.587117</td>\n",
       "      <td>0</td>\n",
       "      <td>Chirag J</td>\n",
       "    </tr>\n",
       "  </tbody>\n",
       "</table>\n",
       "<p>25970 rows × 18 columns</p>\n",
       "</div>"
      ],
      "text/plain": [
       "      Platform  Flank Depletion Region    Well       Date Start Date  \\\n",
       "0            A  South            Ch_SP  A01ST1 1997-11-30 1997-01-01   \n",
       "1            A  South            Ch_SP  A01ST1 1997-12-31 1997-01-01   \n",
       "2            A  South            Ch_SP  A01ST1 1998-01-31 1997-01-01   \n",
       "3            A  South            Ch_SP  A01ST1 1998-02-28 1997-01-01   \n",
       "4            A  South            Ch_SP  A01ST1 1998-03-31 1997-01-01   \n",
       "...        ...    ...              ...     ...        ...        ...   \n",
       "25965        J  South         WCh_SB10     J30 2022-11-30 2022-04-17   \n",
       "25966        J  South         WCh_SB10     J30 2022-12-31 2022-04-17   \n",
       "25967        J  South         WCh_SB10     J30 2023-01-31 2022-04-17   \n",
       "25968        J  South          Ch_SB10     J31 2022-11-30 2022-11-01   \n",
       "25969        J  South          Ch_SB10     J31 2022-12-31 2022-11-01   \n",
       "\n",
       "        End Date  Duty  DTS DHPTG Completion Zones  Actual Oil, Mstb/d  \\\n",
       "0     2005-11-18  Prod   No   Yes             ABCD            3.772226   \n",
       "1     2005-11-18  Prod   No   Yes             ABCD            7.040225   \n",
       "2     2005-11-18  Prod   No   Yes             ABCD            4.673162   \n",
       "3     2005-11-18  Prod   No   Yes             ABCD            3.445680   \n",
       "4     2005-11-18  Prod   No   Yes             ABCD            6.152513   \n",
       "...          ...   ...  ...   ...              ...                 ...   \n",
       "25965        NaT  Prod  Yes   Yes                X            1.681406   \n",
       "25966        NaT  Prod  Yes   Yes                X            1.734252   \n",
       "25967        NaT  Prod  Yes   Yes                X            1.725023   \n",
       "25968        NaT    WI  Yes   Yes               XB            0.000000   \n",
       "25969        NaT    WI  Yes   Yes               XB            0.000000   \n",
       "\n",
       "       Actual Gas, MMscf/d  Actual Water, Mstb/d  Actual GI, MMscf/d  \\\n",
       "0                 3.115728              0.000000                 0.0   \n",
       "1                 5.736733              0.000000                 0.0   \n",
       "2                 4.571033              0.000000                 0.0   \n",
       "3                 3.096051              0.000000                 0.0   \n",
       "4                 5.237627              0.000000                 0.0   \n",
       "...                    ...                   ...                 ...   \n",
       "25965             2.484517              0.001700                 0.0   \n",
       "25966             4.882646              0.000453                 0.0   \n",
       "25967             7.826693              0.000000                 0.0   \n",
       "25968             0.000000              0.000000                 0.0   \n",
       "25969             0.000000              0.000000                 0.0   \n",
       "\n",
       "       Actual WI, Mstb/d  Actual Gas Lift, MMscf/d Field Platform  \n",
       "0               0.000000                         0       Chirag A  \n",
       "1               0.000000                         0       Chirag A  \n",
       "2               0.000000                         0       Chirag A  \n",
       "3               0.000000                         0       Chirag A  \n",
       "4               0.000000                         0       Chirag A  \n",
       "...                  ...                       ...            ...  \n",
       "25965           0.000000                         0       Chirag J  \n",
       "25966           0.000000                         0       Chirag J  \n",
       "25967           0.000000                         0       Chirag J  \n",
       "25968           0.563021                         0       Chirag J  \n",
       "25969           0.587117                         0       Chirag J  \n",
       "\n",
       "[25970 rows x 18 columns]"
      ]
     },
     "execution_count": 31,
     "metadata": {},
     "output_type": "execute_result"
    }
   ],
   "source": [
    "df.drop(['Field'],axis=1)"
   ]
  },
  {
   "cell_type": "code",
   "execution_count": 9,
   "id": "21e97b16-b2f4-47e8-bd63-0f44457ec7f9",
   "metadata": {},
   "outputs": [],
   "source": [
    "data = tv.Outlook(df)"
   ]
  },
  {
   "cell_type": "code",
   "execution_count": 10,
   "id": "613a0586-3b5a-4e75-85d9-71f475d42357",
   "metadata": {},
   "outputs": [
    {
     "data": {
      "text/plain": [
       "['Actual Gas, MMscf/d',\n",
       " 'Actual Water, Mstb/d',\n",
       " 'Actual GI, MMscf/d',\n",
       " 'Actual WI, Mstb/d',\n",
       " 'Actual Gas Lift, MMscf/d']"
      ]
     },
     "execution_count": 10,
     "metadata": {},
     "output_type": "execute_result"
    }
   ],
   "source": [
    "data.minor('Actual Oil, Mstb/d',None)"
   ]
  },
  {
   "cell_type": "code",
   "execution_count": 11,
   "id": "7dc50634-1587-4b79-a553-9a01a01ac3cc",
   "metadata": {},
   "outputs": [
    {
     "data": {
      "text/html": [
       "<div>\n",
       "<style scoped>\n",
       "    .dataframe tbody tr th:only-of-type {\n",
       "        vertical-align: middle;\n",
       "    }\n",
       "\n",
       "    .dataframe tbody tr th {\n",
       "        vertical-align: top;\n",
       "    }\n",
       "\n",
       "    .dataframe thead th {\n",
       "        text-align: right;\n",
       "    }\n",
       "</style>\n",
       "<table border=\"1\" class=\"dataframe\">\n",
       "  <thead>\n",
       "    <tr style=\"text-align: right;\">\n",
       "      <th></th>\n",
       "      <th>Field Platform</th>\n",
       "      <th>Date</th>\n",
       "      <th>Actual Oil, Mstb/d</th>\n",
       "      <th>Actual Gas, MMscf/d</th>\n",
       "      <th>Actual Water, Mstb/d</th>\n",
       "      <th>Actual GI, MMscf/d</th>\n",
       "      <th>Actual WI, Mstb/d</th>\n",
       "      <th>Actual Gas Lift, MMscf/d</th>\n",
       "    </tr>\n",
       "  </thead>\n",
       "  <tbody>\n",
       "    <tr>\n",
       "      <th>0</th>\n",
       "      <td>Azeri B</td>\n",
       "      <td>2005-02-28</td>\n",
       "      <td>14.941716</td>\n",
       "      <td>10.463551</td>\n",
       "      <td>0.013523</td>\n",
       "      <td>0.0</td>\n",
       "      <td>0.000000</td>\n",
       "      <td>0</td>\n",
       "    </tr>\n",
       "    <tr>\n",
       "      <th>1</th>\n",
       "      <td>Azeri B</td>\n",
       "      <td>2005-03-31</td>\n",
       "      <td>67.047661</td>\n",
       "      <td>46.697971</td>\n",
       "      <td>0.035730</td>\n",
       "      <td>0.0</td>\n",
       "      <td>0.000000</td>\n",
       "      <td>0</td>\n",
       "    </tr>\n",
       "    <tr>\n",
       "      <th>2</th>\n",
       "      <td>Azeri B</td>\n",
       "      <td>2005-04-30</td>\n",
       "      <td>66.272300</td>\n",
       "      <td>46.060708</td>\n",
       "      <td>0.052709</td>\n",
       "      <td>0.0</td>\n",
       "      <td>0.000000</td>\n",
       "      <td>0</td>\n",
       "    </tr>\n",
       "    <tr>\n",
       "      <th>3</th>\n",
       "      <td>Azeri B</td>\n",
       "      <td>2005-05-31</td>\n",
       "      <td>108.933643</td>\n",
       "      <td>86.013518</td>\n",
       "      <td>0.039977</td>\n",
       "      <td>0.0</td>\n",
       "      <td>0.000000</td>\n",
       "      <td>0</td>\n",
       "    </tr>\n",
       "    <tr>\n",
       "      <th>4</th>\n",
       "      <td>Azeri B</td>\n",
       "      <td>2005-06-30</td>\n",
       "      <td>136.323414</td>\n",
       "      <td>120.857721</td>\n",
       "      <td>0.034051</td>\n",
       "      <td>0.0</td>\n",
       "      <td>0.000000</td>\n",
       "      <td>0</td>\n",
       "    </tr>\n",
       "    <tr>\n",
       "      <th>...</th>\n",
       "      <td>...</td>\n",
       "      <td>...</td>\n",
       "      <td>...</td>\n",
       "      <td>...</td>\n",
       "      <td>...</td>\n",
       "      <td>...</td>\n",
       "      <td>...</td>\n",
       "      <td>...</td>\n",
       "    </tr>\n",
       "    <tr>\n",
       "      <th>1715</th>\n",
       "      <td>DWG H</td>\n",
       "      <td>2022-09-30</td>\n",
       "      <td>0.000000</td>\n",
       "      <td>0.000000</td>\n",
       "      <td>0.000000</td>\n",
       "      <td>0.0</td>\n",
       "      <td>47.372891</td>\n",
       "      <td>0</td>\n",
       "    </tr>\n",
       "    <tr>\n",
       "      <th>1716</th>\n",
       "      <td>DWG H</td>\n",
       "      <td>2022-10-31</td>\n",
       "      <td>0.000000</td>\n",
       "      <td>0.000000</td>\n",
       "      <td>0.000000</td>\n",
       "      <td>0.0</td>\n",
       "      <td>50.550318</td>\n",
       "      <td>0</td>\n",
       "    </tr>\n",
       "    <tr>\n",
       "      <th>1717</th>\n",
       "      <td>DWG H</td>\n",
       "      <td>2022-11-30</td>\n",
       "      <td>0.000000</td>\n",
       "      <td>0.000000</td>\n",
       "      <td>0.000000</td>\n",
       "      <td>0.0</td>\n",
       "      <td>53.070033</td>\n",
       "      <td>0</td>\n",
       "    </tr>\n",
       "    <tr>\n",
       "      <th>1718</th>\n",
       "      <td>DWG H</td>\n",
       "      <td>2022-12-31</td>\n",
       "      <td>0.000000</td>\n",
       "      <td>0.000000</td>\n",
       "      <td>0.000000</td>\n",
       "      <td>0.0</td>\n",
       "      <td>57.254584</td>\n",
       "      <td>0</td>\n",
       "    </tr>\n",
       "    <tr>\n",
       "      <th>1719</th>\n",
       "      <td>DWG H</td>\n",
       "      <td>2023-01-31</td>\n",
       "      <td>0.000000</td>\n",
       "      <td>0.000000</td>\n",
       "      <td>0.000000</td>\n",
       "      <td>0.0</td>\n",
       "      <td>48.508749</td>\n",
       "      <td>0</td>\n",
       "    </tr>\n",
       "  </tbody>\n",
       "</table>\n",
       "<p>1720 rows × 8 columns</p>\n",
       "</div>"
      ],
      "text/plain": [
       "     Field Platform       Date  Actual Oil, Mstb/d  Actual Gas, MMscf/d  \\\n",
       "0           Azeri B 2005-02-28           14.941716            10.463551   \n",
       "1           Azeri B 2005-03-31           67.047661            46.697971   \n",
       "2           Azeri B 2005-04-30           66.272300            46.060708   \n",
       "3           Azeri B 2005-05-31          108.933643            86.013518   \n",
       "4           Azeri B 2005-06-30          136.323414           120.857721   \n",
       "...             ...        ...                 ...                  ...   \n",
       "1715          DWG H 2022-09-30            0.000000             0.000000   \n",
       "1716          DWG H 2022-10-31            0.000000             0.000000   \n",
       "1717          DWG H 2022-11-30            0.000000             0.000000   \n",
       "1718          DWG H 2022-12-31            0.000000             0.000000   \n",
       "1719          DWG H 2023-01-31            0.000000             0.000000   \n",
       "\n",
       "      Actual Water, Mstb/d  Actual GI, MMscf/d  Actual WI, Mstb/d  \\\n",
       "0                 0.013523                 0.0           0.000000   \n",
       "1                 0.035730                 0.0           0.000000   \n",
       "2                 0.052709                 0.0           0.000000   \n",
       "3                 0.039977                 0.0           0.000000   \n",
       "4                 0.034051                 0.0           0.000000   \n",
       "...                    ...                 ...                ...   \n",
       "1715              0.000000                 0.0          47.372891   \n",
       "1716              0.000000                 0.0          50.550318   \n",
       "1717              0.000000                 0.0          53.070033   \n",
       "1718              0.000000                 0.0          57.254584   \n",
       "1719              0.000000                 0.0          48.508749   \n",
       "\n",
       "      Actual Gas Lift, MMscf/d  \n",
       "0                            0  \n",
       "1                            0  \n",
       "2                            0  \n",
       "3                            0  \n",
       "4                            0  \n",
       "...                        ...  \n",
       "1715                         0  \n",
       "1716                         0  \n",
       "1717                         0  \n",
       "1718                         0  \n",
       "1719                         0  \n",
       "\n",
       "[1720 rows x 8 columns]"
      ]
     },
     "execution_count": 11,
     "metadata": {},
     "output_type": "execute_result"
    }
   ],
   "source": [
    "data('Date').view('Field','Platform').frame"
   ]
  },
  {
   "cell_type": "code",
   "execution_count": 12,
   "id": "e4f2f1af-5deb-4809-845e-e6024f9f78e0",
   "metadata": {},
   "outputs": [
    {
     "data": {
      "text/plain": [
       "pandas._libs.tslibs.timestamps.Timestamp"
      ]
     },
     "execution_count": 12,
     "metadata": {},
     "output_type": "execute_result"
    }
   ],
   "source": [
    "type(df['Date'][0])"
   ]
  },
  {
   "cell_type": "code",
   "execution_count": 22,
   "id": "ffa858c5-6420-404e-bd1e-22e62b16c7c3",
   "metadata": {},
   "outputs": [
    {
     "data": {
      "text/plain": [
       "str"
      ]
     },
     "execution_count": 22,
     "metadata": {},
     "output_type": "execute_result"
    }
   ],
   "source": [
    "type(df.columns[0])"
   ]
  },
  {
   "cell_type": "code",
   "execution_count": 13,
   "id": "fa46a88c-8cb5-4773-bb4f-ca391746f45b",
   "metadata": {},
   "outputs": [
    {
     "data": {
      "text/plain": [
       "datetime.date(2022, 11, 10)"
      ]
     },
     "execution_count": 13,
     "metadata": {},
     "output_type": "execute_result"
    }
   ],
   "source": [
    "pd.Timestamp(year=2022, month=11, day=10, hour=6).date()"
   ]
  },
  {
   "cell_type": "code",
   "execution_count": 19,
   "id": "84a3b0c3-59bf-42e0-9fb6-18b7c9bbb1f2",
   "metadata": {},
   "outputs": [
    {
     "data": {
      "text/plain": [
       "datetime.date(1997, 11, 29)"
      ]
     },
     "execution_count": 19,
     "metadata": {},
     "output_type": "execute_result"
    }
   ],
   "source": [
    "data.mindate"
   ]
  },
  {
   "cell_type": "code",
   "execution_count": 15,
   "id": "772aea1a-8c6c-4deb-9e6a-de6ffdb33434",
   "metadata": {},
   "outputs": [],
   "source": [
    "# data.maxdate = datetime.date(2023, 1, 31)"
   ]
  },
  {
   "cell_type": "code",
   "execution_count": 16,
   "id": "61270c8c-ac74-41e4-9220-9a8a748df75b",
   "metadata": {},
   "outputs": [
    {
     "name": "stdout",
     "output_type": "stream",
     "text": [
      "<class 'plotly.graph_objs._figure.Figure'>\n"
     ]
    }
   ],
   "source": [
    "fig2 = go.Figure()\n",
    "\n",
    "print(type(fig2))"
   ]
  },
  {
   "cell_type": "code",
   "execution_count": 17,
   "id": "e2688cdc-3257-418b-bf3b-a74bd043610e",
   "metadata": {},
   "outputs": [],
   "source": [
    "# fig = make_subplots(rows=2, cols=1)\n",
    "\n",
    "# data1 = go.Scatter(\n",
    "#     x = frame.iloc[:,0],\n",
    "#     y = frame.iloc[:,1],\n",
    "#     mode = 'markers',\n",
    "#     # opacity = st.session_state.opacity,\n",
    "#     )\n",
    "\n",
    "# fig.add_trace(data1,row=1,col=1)\n",
    "\n",
    "# data2 = go.Scatter(\n",
    "#     x = frame.iloc[:,0],\n",
    "#     y = frame.iloc[:,2],\n",
    "#     mode = 'lines',\n",
    "#     line = dict(color=\"black\"),\n",
    "#     )\n",
    "\n",
    "# fig.add_trace(data2,row=2,col=1)\n",
    "\n",
    "# fig.update_layout(\n",
    "#     height = 1000,\n",
    "#     title = 'None Rates',\n",
    "#     xaxis_title = 'Date Time',\n",
    "#     yaxis_title = 'Actual Oil, Mstb/d',\n",
    "    \n",
    "#     )"
   ]
  },
  {
   "cell_type": "code",
   "execution_count": null,
   "id": "a3beaa9e-f63f-4758-9efe-e240a483bbc8",
   "metadata": {},
   "outputs": [],
   "source": []
  }
 ],
 "metadata": {
  "kernelspec": {
   "display_name": "Python 3 (ipykernel)",
   "language": "python",
   "name": "python3"
  },
  "language_info": {
   "codemirror_mode": {
    "name": "ipython",
    "version": 3
   },
   "file_extension": ".py",
   "mimetype": "text/x-python",
   "name": "python",
   "nbconvert_exporter": "python",
   "pygments_lexer": "ipython3",
   "version": "3.12.0"
  }
 },
 "nbformat": 4,
 "nbformat_minor": 5
}
