{
 "cells": [
  {
   "cell_type": "code",
   "execution_count": 1,
   "id": "6948d765-8338-4881-b40b-933835f3eb72",
   "metadata": {},
   "outputs": [],
   "source": [
    "import datetime"
   ]
  },
  {
   "cell_type": "code",
   "execution_count": 2,
   "id": "59d2a439-9a93-474b-b253-fcf1df8ad60f",
   "metadata": {},
   "outputs": [],
   "source": [
    "from dateutil.relativedelta import relativedelta"
   ]
  },
  {
   "cell_type": "code",
   "execution_count": 3,
   "id": "cc7e3a4a-cd51-4b7f-a19d-1a4ffd0ae57c",
   "metadata": {},
   "outputs": [],
   "source": [
    "import ipywidgets as widgets"
   ]
  },
  {
   "cell_type": "code",
   "execution_count": 4,
   "id": "9ede2547-43b9-4256-85d0-4923ccba6f50",
   "metadata": {},
   "outputs": [],
   "source": [
    "from IPython.display import display"
   ]
  },
  {
   "cell_type": "code",
   "execution_count": 5,
   "id": "8b63ca8b-7631-4e37-8597-8908f34074c8",
   "metadata": {},
   "outputs": [],
   "source": [
    "import numpy as np\n",
    "import pandas as pd"
   ]
  },
  {
   "cell_type": "code",
   "execution_count": 6,
   "id": "e1c3d028-83a4-486e-a55e-ed45401b194e",
   "metadata": {},
   "outputs": [],
   "source": [
    "# from plotly.subplots import make_subplots\n",
    "import plotly.graph_objects as go"
   ]
  },
  {
   "cell_type": "code",
   "execution_count": 7,
   "id": "43ab8f98-b9e4-4c12-b036-c3a3e6c3952a",
   "metadata": {},
   "outputs": [],
   "source": [
    "import sys\n",
    "sys.path.append(r'C:\\Users\\3876yl\\Documents\\prodpy')\n",
    "# sys.path.append(r'C:\\Users\\user\\Documents\\GitHub\\prodpy')"
   ]
  },
  {
   "cell_type": "code",
   "execution_count": 8,
   "id": "cf633748-c23b-47f0-aead-0ca6fa8e318f",
   "metadata": {},
   "outputs": [
    {
     "name": "stderr",
     "output_type": "stream",
     "text": [
      "2024-05-17 16:47:50.958 WARNING streamlit.runtime.caching.cache_data_api: No runtime found, using MemoryCacheStorageManager\n"
     ]
    }
   ],
   "source": [
    "from prodpy import timeview as tv\n",
    "from prodpy import decline as dc"
   ]
  },
  {
   "cell_type": "code",
   "execution_count": 9,
   "id": "10ef6eb8-3e80-4550-a154-93c2720ef056",
   "metadata": {},
   "outputs": [],
   "source": [
    "df = pd.read_excel(r\"C:\\Users\\3876yl\\OneDrive - BP\\Documents\\ACG_decline_curve_analysis.xlsx\")\n",
    "# df = pd.read_excel(r\"C:\\Users\\user\\Downloads\\ACG_decline_curve_analysis.xlsx\")"
   ]
  },
  {
   "cell_type": "code",
   "execution_count": 10,
   "id": "c9aaed11-48b5-4689-b848-86a57bf208fd",
   "metadata": {},
   "outputs": [
    {
     "data": {
      "text/plain": [
       "Index(['Field', 'Platform', 'Flank', 'Depletion Region', 'Well', 'Date',\n",
       "       'Start Date', 'End Date', 'Duty', 'DTS', 'DHPTG', 'Completion Zones',\n",
       "       'Actual Oil, Mstb/d', 'Actual Gas, MMscf/d', 'Actual Water, Mstb/d',\n",
       "       'Actual GI, MMscf/d', 'Actual WI, Mstb/d', 'Actual Gas Lift, MMscf/d'],\n",
       "      dtype='object')"
      ]
     },
     "execution_count": 10,
     "metadata": {},
     "output_type": "execute_result"
    }
   ],
   "source": [
    "df.columns"
   ]
  },
  {
   "cell_type": "code",
   "execution_count": 11,
   "id": "ad9a95cb-744b-43f5-894a-b2d601b54c16",
   "metadata": {},
   "outputs": [],
   "source": [
    "data = tv.Outlook(df)"
   ]
  },
  {
   "cell_type": "code",
   "execution_count": 12,
   "id": "08bea830-c570-4d5f-acee-b5171ee2e355",
   "metadata": {},
   "outputs": [],
   "source": [
    "view = data('Date').view('Field',numbers=['Actual Oil, Mstb/d'])"
   ]
  },
  {
   "cell_type": "code",
   "execution_count": 13,
   "id": "6c96054d-50b4-4168-b0be-ab6d0ac11447",
   "metadata": {},
   "outputs": [],
   "source": [
    "frame = view.filter('Azeri')"
   ]
  },
  {
   "cell_type": "code",
   "execution_count": 14,
   "id": "7467d622-4cbc-4a6c-b0ab-a4087fde22c7",
   "metadata": {},
   "outputs": [],
   "source": [
    "dca = dc.Analysis('Date','Actual Oil, Mstb/d')"
   ]
  },
  {
   "cell_type": "code",
   "execution_count": 15,
   "id": "35602618-d204-4d66-8621-3f94f7b1501a",
   "metadata": {},
   "outputs": [
    {
     "data": {
      "text/plain": [
       "relativedelta(months=+6)"
      ]
     },
     "execution_count": 15,
     "metadata": {},
     "output_type": "execute_result"
    }
   ],
   "source": [
    "relativedelta(months=6)"
   ]
  },
  {
   "cell_type": "code",
   "execution_count": 16,
   "id": "ea22ae72-5570-4c3a-9ba9-67213a6be11b",
   "metadata": {},
   "outputs": [
    {
     "data": {
      "text/plain": [
       "datetime.date(2023, 7, 31)"
      ]
     },
     "execution_count": 16,
     "metadata": {},
     "output_type": "execute_result"
    }
   ],
   "source": [
    "dca.get_dateL(frame['Date'])+relativedelta(months=6)"
   ]
  },
  {
   "cell_type": "code",
   "execution_count": 20,
   "id": "e2688cdc-3257-418b-bf3b-a74bd043610e",
   "metadata": {},
   "outputs": [],
   "source": [
    "def slider(months):\n",
    "\n",
    "    model = dca(frame).fit(\n",
    "        mode = 'Harmonic',\n",
    "        start = datetime.date(2005,2,1)+relativedelta(months=months),\n",
    "        end   = datetime.date(2023,2,1),\n",
    "        # start = datetime.date(2010,1,1),\n",
    "        # end   = datetime.date(2023,2,1),\n",
    "    )\n",
    "    \n",
    "    print(model)\n",
    "    \n",
    "    curve = dca(frame).run(\n",
    "        model,\n",
    "        end   = datetime.date(2025,1,1),\n",
    "    )\n",
    "\n",
    "    fig = go.Figure()\n",
    "    \n",
    "    data1 = go.Scatter(x=frame['Date'],y=frame['Actual Oil, Mstb/d'],mode='markers')\n",
    "    \n",
    "    fig.add_trace(data1)\n",
    "    \n",
    "    data2 = go.Scatter(x=curve['dates'],y=curve['rates'],mode='lines',line=dict(color=\"red\"))\n",
    "    \n",
    "    fig.add_trace(data2)\n",
    "\n",
    "    fig.show()"
   ]
  },
  {
   "cell_type": "code",
   "execution_count": 21,
   "id": "56970122-c76a-47df-997f-60314b04cb3b",
   "metadata": {},
   "outputs": [
    {
     "data": {
      "application/vnd.jupyter.widget-view+json": {
       "model_id": "43bddb2011984bffbc829b8244a6db02",
       "version_major": 2,
       "version_minor": 0
      },
      "text/plain": [
       "interactive(children=(IntSlider(value=100, description='months', max=200), Output()), _dom_classes=('widget-in…"
      ]
     },
     "metadata": {},
     "output_type": "display_data"
    }
   ],
   "source": [
    "w = widgets.interact(slider,months=(0,200))"
   ]
  },
  {
   "cell_type": "code",
   "execution_count": 19,
   "id": "cfd54536-5d58-4dec-b17b-11c47437d9fb",
   "metadata": {},
   "outputs": [],
   "source": [
    "# fig.update_layout(\n",
    "#     height = 1000,\n",
    "#     title = 'None Rates',\n",
    "#     xaxis_title = 'Date Time',\n",
    "#     yaxis_title = 'Actual Oil, Mstb/d',\n",
    "    \n",
    "#     )"
   ]
  }
 ],
 "metadata": {
  "kernelspec": {
   "display_name": "Python 3 (ipykernel)",
   "language": "python",
   "name": "python3"
  },
  "language_info": {
   "codemirror_mode": {
    "name": "ipython",
    "version": 3
   },
   "file_extension": ".py",
   "mimetype": "text/x-python",
   "name": "python",
   "nbconvert_exporter": "python",
   "pygments_lexer": "ipython3",
   "version": "3.12.0"
  }
 },
 "nbformat": 4,
 "nbformat_minor": 5
}
