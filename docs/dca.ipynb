{
 "cells": [
  {
   "cell_type": "code",
   "execution_count": 1,
   "id": "6948d765-8338-4881-b40b-933835f3eb72",
   "metadata": {},
   "outputs": [],
   "source": [
    "import datetime"
   ]
  },
  {
   "cell_type": "code",
   "execution_count": 2,
   "id": "59d2a439-9a93-474b-b253-fcf1df8ad60f",
   "metadata": {},
   "outputs": [],
   "source": [
    "from dateutil.relativedelta import relativedelta"
   ]
  },
  {
   "cell_type": "code",
   "execution_count": 3,
   "id": "cc7e3a4a-cd51-4b7f-a19d-1a4ffd0ae57c",
   "metadata": {},
   "outputs": [],
   "source": [
    "# import ipywidgets as widgets"
   ]
  },
  {
   "cell_type": "code",
   "execution_count": 4,
   "id": "9ede2547-43b9-4256-85d0-4923ccba6f50",
   "metadata": {},
   "outputs": [],
   "source": [
    "# from IPython.display import display"
   ]
  },
  {
   "cell_type": "code",
   "execution_count": 5,
   "id": "8b63ca8b-7631-4e37-8597-8908f34074c8",
   "metadata": {},
   "outputs": [],
   "source": [
    "import numpy as np\n",
    "import pandas as pd"
   ]
  },
  {
   "cell_type": "code",
   "execution_count": 6,
   "id": "e1c3d028-83a4-486e-a55e-ed45401b194e",
   "metadata": {},
   "outputs": [],
   "source": [
    "# from plotly.subplots import make_subplots\n",
    "# import plotly.graph_objects as go"
   ]
  },
  {
   "cell_type": "code",
   "execution_count": 7,
   "id": "43ab8f98-b9e4-4c12-b036-c3a3e6c3952a",
   "metadata": {},
   "outputs": [],
   "source": [
    "import sys\n",
    "sys.path.append(r'C:\\Users\\3876yl\\Documents\\prodpy')\n",
    "# sys.path.append(r'C:\\Users\\user\\Documents\\GitHub\\prodpy')"
   ]
  },
  {
   "cell_type": "code",
   "execution_count": 8,
   "id": "cf633748-c23b-47f0-aead-0ca6fa8e318f",
   "metadata": {},
   "outputs": [
    {
     "name": "stderr",
     "output_type": "stream",
     "text": [
      "2024-05-30 09:40:30.710 WARNING streamlit.runtime.caching.cache_data_api: No runtime found, using MemoryCacheStorageManager\n"
     ]
    }
   ],
   "source": [
    "from prodpy import timeview as tv\n",
    "from prodpy import decline as dc"
   ]
  },
  {
   "cell_type": "code",
   "execution_count": 9,
   "id": "10ef6eb8-3e80-4550-a154-93c2720ef056",
   "metadata": {},
   "outputs": [],
   "source": [
    "df = pd.read_excel(r\"C:\\Users\\3876yl\\Downloads\\ACG_dashboard_XL-4Q-2023.xlsx\")\n",
    "# df = pd.read_excel(r\"C:\\Users\\user\\Downloads\\ACG_decline_curve_analysis.xlsx\")"
   ]
  },
  {
   "cell_type": "code",
   "execution_count": 10,
   "id": "c9aaed11-48b5-4689-b848-86a57bf208fd",
   "metadata": {},
   "outputs": [
    {
     "data": {
      "text/plain": [
       "Index(['Field', 'Platform', 'Flank', 'Depletion Region', 'Well', 'Date',\n",
       "       'X coor, m', 'Y coor, m', 'Start Date', 'End Date', 'Duty', 'Slot N',\n",
       "       'Completion Type', 'DTS', 'DHPTG', 'Completion Zones',\n",
       "       'Actual Oil, Mstb/d', 'Actual Gas, MMscf/d', 'Actual Water, Mstb/d',\n",
       "       'Actual GI, MMscf/d', 'Actual WI, Mstb/d', 'Actual Gas Lift, MMscf/d',\n",
       "       'Sim Oil Rate, Mstb/d', 'Sim Gas Rate, MMscf/d',\n",
       "       'Sim Water Rate, Mstb/d', 'Sim GI, MMscf/d', 'Sim WI, Mstb/d',\n",
       "       'Sim GL, MMscf/d', 'Sim AVG PRES, psi', 'Test date', 'Test Type',\n",
       "       'Depth of first perf, TVDSCS m', 'Actual FBHP@first perf depth, psia',\n",
       "       'Actual Pres@first perf depth, psia', 'Actual FBHP@datum, psia',\n",
       "       'Actual Pres@datum, psia', 'K, mD', 'Kh, mD m', 'Skin',\n",
       "       'PI/II, stb/d/psi (or scf/d/psi)', 'Test Start Date', 'Test Choke Size',\n",
       "       'Test Oil Rate (Mstb/d)', 'Test Gas Rate (MMscf/d)',\n",
       "       'Test Water Rate (Mstb/d)', 'Test Gas Lift Rate (MMscf/d)',\n",
       "       'Test Water Cut (%)', 'Test Max Sand Rate (pptb)', 'Test GOR (scf/stb)',\n",
       "       'Test BHP (psi)', 'Test BHT (C deg)', 'Test WHP (psi)',\n",
       "       'Test WHT (C deg)', 'Test H2S (ppm)', 'Active', 'Inactive',\n",
       "       'Allocation Date', 'Bal_8_Oil_AF, %', 'Bal_10_Oil_AF, %',\n",
       "       'Per_A_Oil_AF, %', 'Per_B_Oil_AF, %', 'Per_C_Oil_AF, %',\n",
       "       'Per_D_Oil_AF, %', 'Per_E_Oil_AF, %', 'Bal_8_Gas_AF, %',\n",
       "       'Bal_10_Gas_AF, %', 'Per_A_Gas_AF, %', 'Per_B_Gas_AF, %',\n",
       "       'Per_C_Gas_AF, %', 'Per_D_Gas_AF, %', 'Per_E_Gas_AF, %',\n",
       "       'Bal_8_Water_AF, %', 'Bal_10_Water_AF, %', 'Per_A_Water_AF, %',\n",
       "       'Per_B_Water_AF, %', 'Per_C_Water_AF, %', 'Per_D_Water_AF, %',\n",
       "       'Per_E_Water_AF, %', 'Bal_8_Inj_AF, %', 'Bal_10_Inj_AF, %',\n",
       "       'Per_A_Inj_AF, %', 'Per_B_Inj_AF, %', 'Per_C_Inj_AF, %',\n",
       "       'Per_D_Inj_AF, %', 'Per_E_Inj_AF, %', 'Status'],\n",
       "      dtype='object')"
      ]
     },
     "execution_count": 10,
     "metadata": {},
     "output_type": "execute_result"
    }
   ],
   "source": [
    "df.columns"
   ]
  },
  {
   "cell_type": "code",
   "execution_count": 11,
   "id": "ad9a95cb-744b-43f5-894a-b2d601b54c16",
   "metadata": {},
   "outputs": [],
   "source": [
    "data = tv.Outlook(df)"
   ]
  },
  {
   "cell_type": "code",
   "execution_count": 13,
   "id": "3ec4c174-efc1-4067-bd2c-5b867582175c",
   "metadata": {},
   "outputs": [],
   "source": [
    "data = data(datehead='Date')"
   ]
  },
  {
   "cell_type": "code",
   "execution_count": 16,
   "id": "80e4071d-787f-4e80-a4a5-8fb8638b3f9b",
   "metadata": {},
   "outputs": [],
   "source": [
    "frame = data.get(['Date','Actual Oil, Mstb/d'])"
   ]
  },
  {
   "cell_type": "code",
   "execution_count": 18,
   "id": "2bc3a885-861e-4c33-b14d-84ae698d485c",
   "metadata": {},
   "outputs": [],
   "source": [
    "group = frame.groupby(['Date'])"
   ]
  },
  {
   "cell_type": "code",
   "execution_count": 19,
   "id": "e8a8c214-740b-4650-ab98-b7710f34682b",
   "metadata": {},
   "outputs": [],
   "source": [
    "frame = group.sum(['Actual Oil, Mstb/d'])"
   ]
  },
  {
   "cell_type": "code",
   "execution_count": 20,
   "id": "f240b18f-a5fa-43d8-b4d8-20d0dc0cc4bd",
   "metadata": {},
   "outputs": [],
   "source": [
    "frame = frame.reset_index()"
   ]
  },
  {
   "cell_type": "code",
   "execution_count": 21,
   "id": "36002ce8-e67f-4c6c-8977-6e2351499f6a",
   "metadata": {},
   "outputs": [
    {
     "data": {
      "text/html": [
       "<div>\n",
       "<style scoped>\n",
       "    .dataframe tbody tr th:only-of-type {\n",
       "        vertical-align: middle;\n",
       "    }\n",
       "\n",
       "    .dataframe tbody tr th {\n",
       "        vertical-align: top;\n",
       "    }\n",
       "\n",
       "    .dataframe thead th {\n",
       "        text-align: right;\n",
       "    }\n",
       "</style>\n",
       "<table border=\"1\" class=\"dataframe\">\n",
       "  <thead>\n",
       "    <tr style=\"text-align: right;\">\n",
       "      <th></th>\n",
       "      <th>Date</th>\n",
       "      <th>Actual Oil, Mstb/d</th>\n",
       "    </tr>\n",
       "  </thead>\n",
       "  <tbody>\n",
       "    <tr>\n",
       "      <th>0</th>\n",
       "      <td>1997-01-31</td>\n",
       "      <td>0.000000</td>\n",
       "    </tr>\n",
       "    <tr>\n",
       "      <th>1</th>\n",
       "      <td>1997-02-28</td>\n",
       "      <td>0.000000</td>\n",
       "    </tr>\n",
       "    <tr>\n",
       "      <th>2</th>\n",
       "      <td>1997-03-31</td>\n",
       "      <td>0.000000</td>\n",
       "    </tr>\n",
       "    <tr>\n",
       "      <th>3</th>\n",
       "      <td>1997-04-30</td>\n",
       "      <td>0.000000</td>\n",
       "    </tr>\n",
       "    <tr>\n",
       "      <th>4</th>\n",
       "      <td>1997-05-31</td>\n",
       "      <td>0.000000</td>\n",
       "    </tr>\n",
       "    <tr>\n",
       "      <th>...</th>\n",
       "      <td>...</td>\n",
       "      <td>...</td>\n",
       "    </tr>\n",
       "    <tr>\n",
       "      <th>319</th>\n",
       "      <td>2023-08-31</td>\n",
       "      <td>355.944522</td>\n",
       "    </tr>\n",
       "    <tr>\n",
       "      <th>320</th>\n",
       "      <td>2023-09-30</td>\n",
       "      <td>349.866074</td>\n",
       "    </tr>\n",
       "    <tr>\n",
       "      <th>321</th>\n",
       "      <td>2023-10-31</td>\n",
       "      <td>348.219807</td>\n",
       "    </tr>\n",
       "    <tr>\n",
       "      <th>322</th>\n",
       "      <td>2023-11-30</td>\n",
       "      <td>348.437351</td>\n",
       "    </tr>\n",
       "    <tr>\n",
       "      <th>323</th>\n",
       "      <td>2023-12-31</td>\n",
       "      <td>349.048672</td>\n",
       "    </tr>\n",
       "  </tbody>\n",
       "</table>\n",
       "<p>324 rows × 2 columns</p>\n",
       "</div>"
      ],
      "text/plain": [
       "          Date  Actual Oil, Mstb/d\n",
       "0   1997-01-31            0.000000\n",
       "1   1997-02-28            0.000000\n",
       "2   1997-03-31            0.000000\n",
       "3   1997-04-30            0.000000\n",
       "4   1997-05-31            0.000000\n",
       "..         ...                 ...\n",
       "319 2023-08-31          355.944522\n",
       "320 2023-09-30          349.866074\n",
       "321 2023-10-31          348.219807\n",
       "322 2023-11-30          348.437351\n",
       "323 2023-12-31          349.048672\n",
       "\n",
       "[324 rows x 2 columns]"
      ]
     },
     "execution_count": 21,
     "metadata": {},
     "output_type": "execute_result"
    }
   ],
   "source": [
    "frame"
   ]
  },
  {
   "cell_type": "code",
   "execution_count": 22,
   "id": "789f5b73-d64f-4bcd-b296-d78c06f691bd",
   "metadata": {},
   "outputs": [],
   "source": [
    "dca = dc.Analysis('Date','Actual Oil, Mstb/d')"
   ]
  },
  {
   "cell_type": "code",
   "execution_count": 23,
   "id": "1aaaefdd-78eb-4f87-bb58-eb366a9badd9",
   "metadata": {},
   "outputs": [],
   "source": [
    "dca = dca(frame)"
   ]
  },
  {
   "cell_type": "code",
   "execution_count": 24,
   "id": "24c6b6d9-a8b0-4d01-a3d7-60a697a548f6",
   "metadata": {},
   "outputs": [
    {
     "data": {
      "text/plain": [
       "Model(mode='Exponential', exponent=0.0, date0=datetime.date(2021, 1, 1), rate0=480.27249269905724, decline0=0.00024771501087880537)"
      ]
     },
     "execution_count": 24,
     "metadata": {},
     "output_type": "execute_result"
    }
   ],
   "source": [
    "dca.fit([datetime.date(2021,1,1),datetime.date(2021,12,31)],date0=datetime.date(2021,1,1))"
   ]
  },
  {
   "cell_type": "code",
   "execution_count": 25,
   "id": "066adda7-58f6-455b-882e-f1a1e6d846c0",
   "metadata": {},
   "outputs": [
    {
     "data": {
      "text/plain": [
       "Model(mode='Exponential', exponent=0.0, date0=datetime.date(2022, 1, 1), rate0=436.05208711697026, decline0=0.00025234120831294616)"
      ]
     },
     "execution_count": 25,
     "metadata": {},
     "output_type": "execute_result"
    }
   ],
   "source": [
    "dca.fit([datetime.date(2022,1,1),datetime.date(2022,12,31)],date0=datetime.date(2022,1,1))"
   ]
  },
  {
   "cell_type": "code",
   "execution_count": 26,
   "id": "62c256db-975c-48d2-bf4b-1f4032dde201",
   "metadata": {},
   "outputs": [
    {
     "data": {
      "text/plain": [
       "Model(mode='Exponential', exponent=0.0, date0=datetime.date(2023, 1, 1), rate0=389.89813871556254, decline0=0.00036636853546795513)"
      ]
     },
     "execution_count": 26,
     "metadata": {},
     "output_type": "execute_result"
    }
   ],
   "source": [
    "dca.fit([datetime.date(2023,1,1),datetime.date(2023,12,31)],date0=datetime.date(2023,1,1))"
   ]
  },
  {
   "cell_type": "code",
   "execution_count": 29,
   "id": "ff71ea6c-35b5-4caf-ba47-8b9e41ecd3b2",
   "metadata": {},
   "outputs": [
    {
     "data": {
      "text/plain": [
       "0.13372451544580363"
      ]
     },
     "execution_count": 29,
     "metadata": {},
     "output_type": "execute_result"
    }
   ],
   "source": [
    "0.00036636853546795513*365"
   ]
  },
  {
   "cell_type": "code",
   "execution_count": 27,
   "id": "08bea830-c570-4d5f-acee-b5171ee2e355",
   "metadata": {},
   "outputs": [],
   "source": [
    "view = data.view('Field','Flank')"
   ]
  },
  {
   "cell_type": "code",
   "execution_count": 28,
   "id": "5963938a-3c81-4c33-972b-9f4670968e3f",
   "metadata": {},
   "outputs": [
    {
     "data": {
      "text/plain": [
       "0       Azeri Crest\n",
       "1       Azeri Crest\n",
       "2       Azeri Crest\n",
       "3       Azeri Crest\n",
       "4       Azeri Crest\n",
       "           ...     \n",
       "1626      DWG South\n",
       "1627      DWG South\n",
       "1628      DWG South\n",
       "1629      DWG South\n",
       "1630      DWG South\n",
       "Name: Field_Flank, Length: 1631, dtype: object"
      ]
     },
     "execution_count": 28,
     "metadata": {},
     "output_type": "execute_result"
    }
   ],
   "source": [
    "view.frame['Field_Flank']"
   ]
  },
  {
   "cell_type": "code",
   "execution_count": 29,
   "id": "9db19640-14af-4197-8232-69388e19e35b",
   "metadata": {},
   "outputs": [],
   "source": [
    "table = tv.Tableau(view.frame)(view.leadhead,view.datehead)"
   ]
  },
  {
   "cell_type": "code",
   "execution_count": 30,
   "id": "0363d56d-0efc-441d-8671-8bcba0b9c956",
   "metadata": {},
   "outputs": [
    {
     "data": {
      "text/html": [
       "<div>\n",
       "<style scoped>\n",
       "    .dataframe tbody tr th:only-of-type {\n",
       "        vertical-align: middle;\n",
       "    }\n",
       "\n",
       "    .dataframe tbody tr th {\n",
       "        vertical-align: top;\n",
       "    }\n",
       "\n",
       "    .dataframe thead th {\n",
       "        text-align: right;\n",
       "    }\n",
       "</style>\n",
       "<table border=\"1\" class=\"dataframe\">\n",
       "  <thead>\n",
       "    <tr style=\"text-align: right;\">\n",
       "      <th></th>\n",
       "      <th>Field_Flank</th>\n",
       "      <th>Date</th>\n",
       "      <th>Actual Oil, Mstb/d</th>\n",
       "      <th>Actual Gas, MMscf/d</th>\n",
       "      <th>Actual Water, Mstb/d</th>\n",
       "      <th>Actual GI, MMscf/d</th>\n",
       "      <th>Actual WI, Mstb/d</th>\n",
       "      <th>Actual Gas Lift, MMscf/d</th>\n",
       "    </tr>\n",
       "  </thead>\n",
       "  <tbody>\n",
       "    <tr>\n",
       "      <th>0</th>\n",
       "      <td>Azeri Crest</td>\n",
       "      <td>2006-05-31</td>\n",
       "      <td>0.000000</td>\n",
       "      <td>0.000000</td>\n",
       "      <td>0.000000</td>\n",
       "      <td>15.887982</td>\n",
       "      <td>0.000000</td>\n",
       "      <td>0</td>\n",
       "    </tr>\n",
       "    <tr>\n",
       "      <th>1</th>\n",
       "      <td>Azeri Crest</td>\n",
       "      <td>2006-06-30</td>\n",
       "      <td>0.000000</td>\n",
       "      <td>0.000000</td>\n",
       "      <td>0.000000</td>\n",
       "      <td>124.617607</td>\n",
       "      <td>0.000000</td>\n",
       "      <td>0</td>\n",
       "    </tr>\n",
       "    <tr>\n",
       "      <th>2</th>\n",
       "      <td>Azeri Crest</td>\n",
       "      <td>2006-07-31</td>\n",
       "      <td>0.000000</td>\n",
       "      <td>0.000000</td>\n",
       "      <td>0.000000</td>\n",
       "      <td>203.853252</td>\n",
       "      <td>0.000000</td>\n",
       "      <td>0</td>\n",
       "    </tr>\n",
       "    <tr>\n",
       "      <th>3</th>\n",
       "      <td>Azeri Crest</td>\n",
       "      <td>2006-08-31</td>\n",
       "      <td>0.000000</td>\n",
       "      <td>0.000000</td>\n",
       "      <td>0.000000</td>\n",
       "      <td>217.152747</td>\n",
       "      <td>0.000000</td>\n",
       "      <td>0</td>\n",
       "    </tr>\n",
       "    <tr>\n",
       "      <th>4</th>\n",
       "      <td>Azeri Crest</td>\n",
       "      <td>2006-09-30</td>\n",
       "      <td>0.000000</td>\n",
       "      <td>0.000000</td>\n",
       "      <td>0.000000</td>\n",
       "      <td>253.632928</td>\n",
       "      <td>0.000000</td>\n",
       "      <td>0</td>\n",
       "    </tr>\n",
       "    <tr>\n",
       "      <th>...</th>\n",
       "      <td>...</td>\n",
       "      <td>...</td>\n",
       "      <td>...</td>\n",
       "      <td>...</td>\n",
       "      <td>...</td>\n",
       "      <td>...</td>\n",
       "      <td>...</td>\n",
       "      <td>...</td>\n",
       "    </tr>\n",
       "    <tr>\n",
       "      <th>1626</th>\n",
       "      <td>DWG South</td>\n",
       "      <td>2022-09-30</td>\n",
       "      <td>30.989613</td>\n",
       "      <td>37.896273</td>\n",
       "      <td>31.706126</td>\n",
       "      <td>0.000000</td>\n",
       "      <td>106.445853</td>\n",
       "      <td>0</td>\n",
       "    </tr>\n",
       "    <tr>\n",
       "      <th>1627</th>\n",
       "      <td>DWG South</td>\n",
       "      <td>2022-10-31</td>\n",
       "      <td>30.814435</td>\n",
       "      <td>56.366601</td>\n",
       "      <td>28.267768</td>\n",
       "      <td>0.000000</td>\n",
       "      <td>102.101556</td>\n",
       "      <td>0</td>\n",
       "    </tr>\n",
       "    <tr>\n",
       "      <th>1628</th>\n",
       "      <td>DWG South</td>\n",
       "      <td>2022-11-30</td>\n",
       "      <td>34.252774</td>\n",
       "      <td>80.257000</td>\n",
       "      <td>28.825410</td>\n",
       "      <td>0.000000</td>\n",
       "      <td>104.472564</td>\n",
       "      <td>0</td>\n",
       "    </tr>\n",
       "    <tr>\n",
       "      <th>1629</th>\n",
       "      <td>DWG South</td>\n",
       "      <td>2022-12-31</td>\n",
       "      <td>35.041143</td>\n",
       "      <td>79.372572</td>\n",
       "      <td>27.191191</td>\n",
       "      <td>0.000000</td>\n",
       "      <td>106.022356</td>\n",
       "      <td>0</td>\n",
       "    </tr>\n",
       "    <tr>\n",
       "      <th>1630</th>\n",
       "      <td>DWG South</td>\n",
       "      <td>2023-01-31</td>\n",
       "      <td>31.610911</td>\n",
       "      <td>64.891394</td>\n",
       "      <td>26.671874</td>\n",
       "      <td>0.000000</td>\n",
       "      <td>108.564373</td>\n",
       "      <td>0</td>\n",
       "    </tr>\n",
       "  </tbody>\n",
       "</table>\n",
       "<p>1631 rows × 8 columns</p>\n",
       "</div>"
      ],
      "text/plain": [
       "      Field_Flank       Date  Actual Oil, Mstb/d  Actual Gas, MMscf/d  \\\n",
       "0     Azeri Crest 2006-05-31            0.000000             0.000000   \n",
       "1     Azeri Crest 2006-06-30            0.000000             0.000000   \n",
       "2     Azeri Crest 2006-07-31            0.000000             0.000000   \n",
       "3     Azeri Crest 2006-08-31            0.000000             0.000000   \n",
       "4     Azeri Crest 2006-09-30            0.000000             0.000000   \n",
       "...           ...        ...                 ...                  ...   \n",
       "1626    DWG South 2022-09-30           30.989613            37.896273   \n",
       "1627    DWG South 2022-10-31           30.814435            56.366601   \n",
       "1628    DWG South 2022-11-30           34.252774            80.257000   \n",
       "1629    DWG South 2022-12-31           35.041143            79.372572   \n",
       "1630    DWG South 2023-01-31           31.610911            64.891394   \n",
       "\n",
       "      Actual Water, Mstb/d  Actual GI, MMscf/d  Actual WI, Mstb/d  \\\n",
       "0                 0.000000           15.887982           0.000000   \n",
       "1                 0.000000          124.617607           0.000000   \n",
       "2                 0.000000          203.853252           0.000000   \n",
       "3                 0.000000          217.152747           0.000000   \n",
       "4                 0.000000          253.632928           0.000000   \n",
       "...                    ...                 ...                ...   \n",
       "1626             31.706126            0.000000         106.445853   \n",
       "1627             28.267768            0.000000         102.101556   \n",
       "1628             28.825410            0.000000         104.472564   \n",
       "1629             27.191191            0.000000         106.022356   \n",
       "1630             26.671874            0.000000         108.564373   \n",
       "\n",
       "      Actual Gas Lift, MMscf/d  \n",
       "0                            0  \n",
       "1                            0  \n",
       "2                            0  \n",
       "3                            0  \n",
       "4                            0  \n",
       "...                        ...  \n",
       "1626                         0  \n",
       "1627                         0  \n",
       "1628                         0  \n",
       "1629                         0  \n",
       "1630                         0  \n",
       "\n",
       "[1631 rows x 8 columns]"
      ]
     },
     "execution_count": 30,
     "metadata": {},
     "output_type": "execute_result"
    }
   ],
   "source": [
    "table.frame"
   ]
  },
  {
   "cell_type": "code",
   "execution_count": 32,
   "id": "2c0753e5-034e-48bc-8b15-b5311d35380c",
   "metadata": {},
   "outputs": [
    {
     "data": {
      "text/plain": [
       "datetime.date(1997, 11, 29)"
      ]
     },
     "execution_count": 32,
     "metadata": {},
     "output_type": "execute_result"
    }
   ],
   "source": [
    "table.mindate"
   ]
  },
  {
   "cell_type": "code",
   "execution_count": 33,
   "id": "6c96054d-50b4-4168-b0be-ab6d0ac11447",
   "metadata": {},
   "outputs": [],
   "source": [
    "view = table.view('Azeri Crest')"
   ]
  },
  {
   "cell_type": "code",
   "execution_count": 34,
   "id": "0333271a-362e-47a4-bfcd-890bbf6f4cad",
   "metadata": {},
   "outputs": [
    {
     "data": {
      "text/html": [
       "<div>\n",
       "<style scoped>\n",
       "    .dataframe tbody tr th:only-of-type {\n",
       "        vertical-align: middle;\n",
       "    }\n",
       "\n",
       "    .dataframe tbody tr th {\n",
       "        vertical-align: top;\n",
       "    }\n",
       "\n",
       "    .dataframe thead th {\n",
       "        text-align: right;\n",
       "    }\n",
       "</style>\n",
       "<table border=\"1\" class=\"dataframe\">\n",
       "  <thead>\n",
       "    <tr style=\"text-align: right;\">\n",
       "      <th></th>\n",
       "      <th>Field_Flank</th>\n",
       "      <th>Date</th>\n",
       "      <th>Actual Oil, Mstb/d</th>\n",
       "      <th>Actual Gas, MMscf/d</th>\n",
       "      <th>Actual Water, Mstb/d</th>\n",
       "      <th>Actual GI, MMscf/d</th>\n",
       "      <th>Actual WI, Mstb/d</th>\n",
       "      <th>Actual Gas Lift, MMscf/d</th>\n",
       "    </tr>\n",
       "  </thead>\n",
       "  <tbody>\n",
       "    <tr>\n",
       "      <th>0</th>\n",
       "      <td>Azeri Crest</td>\n",
       "      <td>2006-05-31</td>\n",
       "      <td>0.0</td>\n",
       "      <td>0.0</td>\n",
       "      <td>0.0</td>\n",
       "      <td>15.887982</td>\n",
       "      <td>0.0</td>\n",
       "      <td>0</td>\n",
       "    </tr>\n",
       "    <tr>\n",
       "      <th>1</th>\n",
       "      <td>Azeri Crest</td>\n",
       "      <td>2006-06-30</td>\n",
       "      <td>0.0</td>\n",
       "      <td>0.0</td>\n",
       "      <td>0.0</td>\n",
       "      <td>124.617607</td>\n",
       "      <td>0.0</td>\n",
       "      <td>0</td>\n",
       "    </tr>\n",
       "    <tr>\n",
       "      <th>2</th>\n",
       "      <td>Azeri Crest</td>\n",
       "      <td>2006-07-31</td>\n",
       "      <td>0.0</td>\n",
       "      <td>0.0</td>\n",
       "      <td>0.0</td>\n",
       "      <td>203.853252</td>\n",
       "      <td>0.0</td>\n",
       "      <td>0</td>\n",
       "    </tr>\n",
       "    <tr>\n",
       "      <th>3</th>\n",
       "      <td>Azeri Crest</td>\n",
       "      <td>2006-08-31</td>\n",
       "      <td>0.0</td>\n",
       "      <td>0.0</td>\n",
       "      <td>0.0</td>\n",
       "      <td>217.152747</td>\n",
       "      <td>0.0</td>\n",
       "      <td>0</td>\n",
       "    </tr>\n",
       "    <tr>\n",
       "      <th>4</th>\n",
       "      <td>Azeri Crest</td>\n",
       "      <td>2006-09-30</td>\n",
       "      <td>0.0</td>\n",
       "      <td>0.0</td>\n",
       "      <td>0.0</td>\n",
       "      <td>253.632928</td>\n",
       "      <td>0.0</td>\n",
       "      <td>0</td>\n",
       "    </tr>\n",
       "    <tr>\n",
       "      <th>...</th>\n",
       "      <td>...</td>\n",
       "      <td>...</td>\n",
       "      <td>...</td>\n",
       "      <td>...</td>\n",
       "      <td>...</td>\n",
       "      <td>...</td>\n",
       "      <td>...</td>\n",
       "      <td>...</td>\n",
       "    </tr>\n",
       "    <tr>\n",
       "      <th>193</th>\n",
       "      <td>Azeri Crest</td>\n",
       "      <td>2022-09-30</td>\n",
       "      <td>0.0</td>\n",
       "      <td>0.0</td>\n",
       "      <td>0.0</td>\n",
       "      <td>594.230627</td>\n",
       "      <td>0.0</td>\n",
       "      <td>0</td>\n",
       "    </tr>\n",
       "    <tr>\n",
       "      <th>194</th>\n",
       "      <td>Azeri Crest</td>\n",
       "      <td>2022-10-31</td>\n",
       "      <td>0.0</td>\n",
       "      <td>0.0</td>\n",
       "      <td>0.0</td>\n",
       "      <td>604.947020</td>\n",
       "      <td>0.0</td>\n",
       "      <td>0</td>\n",
       "    </tr>\n",
       "    <tr>\n",
       "      <th>195</th>\n",
       "      <td>Azeri Crest</td>\n",
       "      <td>2022-11-30</td>\n",
       "      <td>0.0</td>\n",
       "      <td>0.0</td>\n",
       "      <td>0.0</td>\n",
       "      <td>531.777285</td>\n",
       "      <td>0.0</td>\n",
       "      <td>0</td>\n",
       "    </tr>\n",
       "    <tr>\n",
       "      <th>196</th>\n",
       "      <td>Azeri Crest</td>\n",
       "      <td>2022-12-31</td>\n",
       "      <td>0.0</td>\n",
       "      <td>0.0</td>\n",
       "      <td>0.0</td>\n",
       "      <td>626.596779</td>\n",
       "      <td>0.0</td>\n",
       "      <td>0</td>\n",
       "    </tr>\n",
       "    <tr>\n",
       "      <th>197</th>\n",
       "      <td>Azeri Crest</td>\n",
       "      <td>2023-01-31</td>\n",
       "      <td>0.0</td>\n",
       "      <td>0.0</td>\n",
       "      <td>0.0</td>\n",
       "      <td>627.305801</td>\n",
       "      <td>0.0</td>\n",
       "      <td>0</td>\n",
       "    </tr>\n",
       "  </tbody>\n",
       "</table>\n",
       "<p>198 rows × 8 columns</p>\n",
       "</div>"
      ],
      "text/plain": [
       "     Field_Flank       Date  Actual Oil, Mstb/d  Actual Gas, MMscf/d  \\\n",
       "0    Azeri Crest 2006-05-31                 0.0                  0.0   \n",
       "1    Azeri Crest 2006-06-30                 0.0                  0.0   \n",
       "2    Azeri Crest 2006-07-31                 0.0                  0.0   \n",
       "3    Azeri Crest 2006-08-31                 0.0                  0.0   \n",
       "4    Azeri Crest 2006-09-30                 0.0                  0.0   \n",
       "..           ...        ...                 ...                  ...   \n",
       "193  Azeri Crest 2022-09-30                 0.0                  0.0   \n",
       "194  Azeri Crest 2022-10-31                 0.0                  0.0   \n",
       "195  Azeri Crest 2022-11-30                 0.0                  0.0   \n",
       "196  Azeri Crest 2022-12-31                 0.0                  0.0   \n",
       "197  Azeri Crest 2023-01-31                 0.0                  0.0   \n",
       "\n",
       "     Actual Water, Mstb/d  Actual GI, MMscf/d  Actual WI, Mstb/d  \\\n",
       "0                     0.0           15.887982                0.0   \n",
       "1                     0.0          124.617607                0.0   \n",
       "2                     0.0          203.853252                0.0   \n",
       "3                     0.0          217.152747                0.0   \n",
       "4                     0.0          253.632928                0.0   \n",
       "..                    ...                 ...                ...   \n",
       "193                   0.0          594.230627                0.0   \n",
       "194                   0.0          604.947020                0.0   \n",
       "195                   0.0          531.777285                0.0   \n",
       "196                   0.0          626.596779                0.0   \n",
       "197                   0.0          627.305801                0.0   \n",
       "\n",
       "     Actual Gas Lift, MMscf/d  \n",
       "0                           0  \n",
       "1                           0  \n",
       "2                           0  \n",
       "3                           0  \n",
       "4                           0  \n",
       "..                        ...  \n",
       "193                         0  \n",
       "194                         0  \n",
       "195                         0  \n",
       "196                         0  \n",
       "197                         0  \n",
       "\n",
       "[198 rows x 8 columns]"
      ]
     },
     "execution_count": 34,
     "metadata": {},
     "output_type": "execute_result"
    }
   ],
   "source": [
    "view.frame"
   ]
  },
  {
   "cell_type": "code",
   "execution_count": 35,
   "id": "8210b28b-bfd4-4889-bb2d-e9bcc42ce2c6",
   "metadata": {},
   "outputs": [
    {
     "data": {
      "text/plain": [
       "(datetime.date(2006, 5, 30), datetime.date(2023, 2, 1))"
      ]
     },
     "execution_count": 35,
     "metadata": {},
     "output_type": "execute_result"
    }
   ],
   "source": [
    "view.limit"
   ]
  },
  {
   "cell_type": "code",
   "execution_count": 14,
   "id": "7467d622-4cbc-4a6c-b0ab-a4087fde22c7",
   "metadata": {},
   "outputs": [],
   "source": [
    "dca = dc.Analysis('Date','Actual Oil, Mstb/d')"
   ]
  },
  {
   "cell_type": "code",
   "execution_count": 15,
   "id": "35602618-d204-4d66-8621-3f94f7b1501a",
   "metadata": {},
   "outputs": [
    {
     "data": {
      "text/plain": [
       "relativedelta(months=+6)"
      ]
     },
     "execution_count": 15,
     "metadata": {},
     "output_type": "execute_result"
    }
   ],
   "source": [
    "relativedelta(months=6)"
   ]
  },
  {
   "cell_type": "code",
   "execution_count": 16,
   "id": "ea22ae72-5570-4c3a-9ba9-67213a6be11b",
   "metadata": {},
   "outputs": [
    {
     "data": {
      "text/plain": [
       "datetime.date(2023, 7, 31)"
      ]
     },
     "execution_count": 16,
     "metadata": {},
     "output_type": "execute_result"
    }
   ],
   "source": [
    "dca.get_dateL(frame['Date'])+relativedelta(months=6)"
   ]
  },
  {
   "cell_type": "code",
   "execution_count": 20,
   "id": "e2688cdc-3257-418b-bf3b-a74bd043610e",
   "metadata": {},
   "outputs": [],
   "source": [
    "def slider(months):\n",
    "\n",
    "    model = dca(frame).fit(\n",
    "        mode = 'Harmonic',\n",
    "        start = datetime.date(2005,2,1)+relativedelta(months=months),\n",
    "        end   = datetime.date(2023,2,1),\n",
    "        # start = datetime.date(2010,1,1),\n",
    "        # end   = datetime.date(2023,2,1),\n",
    "    )\n",
    "    \n",
    "    print(model)\n",
    "    \n",
    "    curve = dca(frame).run(\n",
    "        model,\n",
    "        end   = datetime.date(2025,1,1),\n",
    "    )\n",
    "\n",
    "    fig = go.Figure()\n",
    "    \n",
    "    data1 = go.Scatter(x=frame['Date'],y=frame['Actual Oil, Mstb/d'],mode='markers')\n",
    "    \n",
    "    fig.add_trace(data1)\n",
    "    \n",
    "    data2 = go.Scatter(x=curve['dates'],y=curve['rates'],mode='lines',line=dict(color=\"red\"))\n",
    "    \n",
    "    fig.add_trace(data2)\n",
    "\n",
    "    fig.show()"
   ]
  },
  {
   "cell_type": "code",
   "execution_count": 21,
   "id": "56970122-c76a-47df-997f-60314b04cb3b",
   "metadata": {},
   "outputs": [
    {
     "data": {
      "application/vnd.jupyter.widget-view+json": {
       "model_id": "43bddb2011984bffbc829b8244a6db02",
       "version_major": 2,
       "version_minor": 0
      },
      "text/plain": [
       "interactive(children=(IntSlider(value=100, description='months', max=200), Output()), _dom_classes=('widget-in…"
      ]
     },
     "metadata": {},
     "output_type": "display_data"
    }
   ],
   "source": [
    "w = widgets.interact(slider,months=(0,200))"
   ]
  },
  {
   "cell_type": "code",
   "execution_count": 19,
   "id": "cfd54536-5d58-4dec-b17b-11c47437d9fb",
   "metadata": {},
   "outputs": [],
   "source": [
    "# fig.update_layout(\n",
    "#     height = 1000,\n",
    "#     title = 'None Rates',\n",
    "#     xaxis_title = 'Date Time',\n",
    "#     yaxis_title = 'Actual Oil, Mstb/d',\n",
    "    \n",
    "#     )"
   ]
  }
 ],
 "metadata": {
  "kernelspec": {
   "display_name": "Python 3 (ipykernel)",
   "language": "python",
   "name": "python3"
  },
  "language_info": {
   "codemirror_mode": {
    "name": "ipython",
    "version": 3
   },
   "file_extension": ".py",
   "mimetype": "text/x-python",
   "name": "python",
   "nbconvert_exporter": "python",
   "pygments_lexer": "ipython3",
   "version": "3.12.0"
  }
 },
 "nbformat": 4,
 "nbformat_minor": 5
}
