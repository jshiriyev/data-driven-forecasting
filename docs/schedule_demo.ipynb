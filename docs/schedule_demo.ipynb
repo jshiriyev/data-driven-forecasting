{
 "cells": [
  {
   "cell_type": "code",
   "execution_count": 1,
   "id": "d3b778d7-2208-4d9d-a9d5-f280ec12241b",
   "metadata": {},
   "outputs": [],
   "source": [
    "import numpy as np\n",
    "import pandas as pd"
   ]
  },
  {
   "cell_type": "code",
   "execution_count": 2,
   "id": "b8ac7e5c-5efc-437e-a08d-9ab8b7db8b05",
   "metadata": {},
   "outputs": [],
   "source": [
    "from prodpy import Schedule"
   ]
  },
  {
   "cell_type": "code",
   "execution_count": 39,
   "id": "e16e593e-7488-4b03-9d61-5ff01dfc4a77",
   "metadata": {},
   "outputs": [
    {
     "data": {
      "text/html": [
       "<div>\n",
       "<style scoped>\n",
       "    .dataframe tbody tr th:only-of-type {\n",
       "        vertical-align: middle;\n",
       "    }\n",
       "\n",
       "    .dataframe tbody tr th {\n",
       "        vertical-align: top;\n",
       "    }\n",
       "\n",
       "    .dataframe thead th {\n",
       "        text-align: right;\n",
       "    }\n",
       "</style>\n",
       "<table border=\"1\" class=\"dataframe\">\n",
       "  <thead>\n",
       "    <tr style=\"text-align: right;\">\n",
       "      <th></th>\n",
       "      <th>date</th>\n",
       "      <th>qoil</th>\n",
       "    </tr>\n",
       "  </thead>\n",
       "  <tbody>\n",
       "    <tr>\n",
       "      <th>0</th>\n",
       "      <td>2021-01-01</td>\n",
       "      <td>808.820262</td>\n",
       "    </tr>\n",
       "    <tr>\n",
       "      <th>1</th>\n",
       "      <td>2021-01-02</td>\n",
       "      <td>786.159725</td>\n",
       "    </tr>\n",
       "    <tr>\n",
       "      <th>2</th>\n",
       "      <td>2021-01-03</td>\n",
       "      <td>773.525241</td>\n",
       "    </tr>\n",
       "    <tr>\n",
       "      <th>3</th>\n",
       "      <td>2021-01-04</td>\n",
       "      <td>764.616093</td>\n",
       "    </tr>\n",
       "    <tr>\n",
       "      <th>4</th>\n",
       "      <td>2021-01-05</td>\n",
       "      <td>747.830867</td>\n",
       "    </tr>\n",
       "  </tbody>\n",
       "</table>\n",
       "</div>"
      ],
      "text/plain": [
       "        date        qoil\n",
       "0 2021-01-01  808.820262\n",
       "1 2021-01-02  786.159725\n",
       "2 2021-01-03  773.525241\n",
       "3 2021-01-04  764.616093\n",
       "4 2021-01-05  747.830867"
      ]
     },
     "execution_count": 39,
     "metadata": {},
     "output_type": "execute_result"
    }
   ],
   "source": [
    "np.random.seed(0)\n",
    "df = pd.DataFrame({\n",
    "    \"date\": pd.date_range(\"2021-01-01\", periods=12, freq=\"D\"),\n",
    "    \"qoil\": 800 * np.exp(-0.02 * np.arange(12)) + np.random.normal(0, 5, 12),\n",
    "})\n",
    "df.head()"
   ]
  },
  {
   "cell_type": "code",
   "execution_count": 5,
   "id": "3407ff36-302d-4146-aed4-8f0d37cbd635",
   "metadata": {},
   "outputs": [],
   "source": [
    "# Build a Schedule from the time column (sorting enforced automatically)\n",
    "sched = Schedule(df[\"date\"])  # dtype normalized to datetime64[ns]"
   ]
  },
  {
   "cell_type": "code",
   "execution_count": 40,
   "id": "7fab3944-c45e-4398-a6cb-67059e8967fd",
   "metadata": {},
   "outputs": [
    {
     "data": {
      "text/plain": [
       "0   2021-01-01\n",
       "1   2021-01-02\n",
       "2   2021-01-03\n",
       "3   2021-01-04\n",
       "4   2021-01-05\n",
       "Name: date, dtype: datetime64[ns]"
      ]
     },
     "execution_count": 40,
     "metadata": {},
     "output_type": "execute_result"
    }
   ],
   "source": [
    "sched.series.head()"
   ]
  },
  {
   "cell_type": "code",
   "execution_count": 9,
   "id": "8e22a672-bead-40ae-89f9-3be449a4fed0",
   "metadata": {},
   "outputs": [],
   "source": [
    "# Elapsed time in days since the first timestamp — perfect for decline models\n",
    "t_days = sched.days_since_start()  # np.ndarray[float64]"
   ]
  },
  {
   "cell_type": "code",
   "execution_count": 10,
   "id": "48f87143-c9e1-4a5c-929a-e51dad128d7c",
   "metadata": {},
   "outputs": [
    {
     "data": {
      "text/plain": [
       "array([ 0.,  1.,  2.,  3.,  4.,  5.,  6.,  7.,  8.,  9., 10., 11.])"
      ]
     },
     "execution_count": 10,
     "metadata": {},
     "output_type": "execute_result"
    }
   ],
   "source": [
    "t_days"
   ]
  },
  {
   "cell_type": "code",
   "execution_count": 37,
   "id": "fb2e8619-b919-4655-8321-5d29b57bc5fa",
   "metadata": {},
   "outputs": [
    {
     "name": "stdout",
     "output_type": "stream",
     "text": [
      "        date        qoil  t_days\n",
      "0 2021-01-01  808.820262     0.0\n",
      "1 2021-01-02  786.159725     1.0\n",
      "2 2021-01-03  773.525241     2.0\n",
      "3 2021-01-04  764.616093     3.0\n",
      "4 2021-01-05  747.830867     4.0\n"
     ]
    }
   ],
   "source": [
    "# Keep alignment with df: same order as the sorted time column\n",
    "# (If your df wasn't already sorted by date, use the returned index to align.)\n",
    "df_sorted = df.loc[sched.series.index].reset_index(drop=True)\n",
    "df_sorted[\"t_days\"] = t_days\n",
    "\n",
    "print(df_sorted.head())"
   ]
  },
  {
   "cell_type": "code",
   "execution_count": 13,
   "id": "6a0bea06-2cbe-4434-914d-b277c0fe1bc2",
   "metadata": {},
   "outputs": [
    {
     "name": "stdout",
     "output_type": "stream",
     "text": [
      "2021-01-01 00:00:00 2021-01-05 00:00:00\n",
      "2021-01-09 00:00:00 2021-01-12 00:00:00\n",
      "2021-01-04 00:00:00 2021-01-09 00:00:00\n"
     ]
    }
   ],
   "source": [
    "# 2) Using prior/later/within returning Schedule objects\n",
    "left_window  = sched.prior(\"2021-01-05\")           # dates <= 2021-01-05\n",
    "right_window = sched.later(\"2021-01-08\", inclusive=False)  # dates > 2021-01-08\n",
    "mid_window   = sched.within((\"2021-01-04\", \"2021-01-09\"))\n",
    "\n",
    "print(left_window.series.min(), left_window.series.max())\n",
    "print(right_window.series.min(), right_window.series.max())\n",
    "print(mid_window.series.min(), mid_window.series.max())"
   ]
  },
  {
   "cell_type": "code",
   "execution_count": 14,
   "id": "95ddbb3f-2f81-43ab-ae72-ae0cdba84705",
   "metadata": {},
   "outputs": [
    {
     "name": "stdout",
     "output_type": "stream",
     "text": [
      "nearest: 2021-01-06 00:00:00\n"
     ]
    }
   ],
   "source": [
    "# 3) Nearest timestamp to an arbitrary datetime\n",
    "nearest = sched.nearest(\"2021-01-06 12:00\")\n",
    "print(\"nearest:\", nearest)"
   ]
  },
  {
   "cell_type": "code",
   "execution_count": 15,
   "id": "35bdd7df-9498-4e5f-90d1-dcc380ad1e45",
   "metadata": {},
   "outputs": [
    {
     "name": "stdout",
     "output_type": "stream",
     "text": [
      "days in month (this month): [31]\n",
      "days in month (next month): [28]\n"
     ]
    }
   ],
   "source": [
    "# 4) Month properties (days in month, with optional shift)\n",
    "# shift=0  -> current month for each timestamp\n",
    "# shift=1  -> next month for each timestamp\n",
    "# shift=-1 -> previous month for each timestamp\n",
    "print(\"days in month (this month):\", sched.month_lengths().unique().tolist())\n",
    "print(\"days in month (next month):\", sched.month_lengths(shift=1).unique().tolist())"
   ]
  },
  {
   "cell_type": "code",
   "execution_count": 16,
   "id": "33c64047-9590-4139-bae9-029a00c18c7a",
   "metadata": {},
   "outputs": [
    {
     "name": "stdout",
     "output_type": "stream",
     "text": [
      "0   2021-01-01\n",
      "1   2021-01-08\n",
      "2   2021-01-15\n",
      "3   2021-01-22\n",
      "4   2021-01-29\n",
      "dtype: datetime64[ns]\n",
      "First / last: 2021-01-01 2024-01-29\n",
      "Month lengths (span): [31, 31, 31, 31, 31]\n"
     ]
    }
   ],
   "source": [
    "# 5) Generating schedules from ranges (e.g., for forecasting grids)\n",
    "# Build a disjoint schedule sampled every 7 days\n",
    "span = Schedule.get(\n",
    "    (\"2021-01-01\", \"2021-02-01\"),\n",
    "    (\"2024-01-01\", \"2024-02-01\"),\n",
    "    freq=\"7D\",\n",
    ")\n",
    "print(span.series[:5])\n",
    "print(\"First / last:\", span.mindate, span.maxdate)\n",
    "print(\"Month lengths (span):\", span.month_lengths().tolist()[:5])"
   ]
  },
  {
   "cell_type": "code",
   "execution_count": 33,
   "id": "7526e08e-021d-4fe3-8359-7c1cc73c5db7",
   "metadata": {},
   "outputs": [
    {
     "data": {
      "text/plain": [
       "[<matplotlib.lines.Line2D at 0x2db0ebf7c20>]"
      ]
     },
     "execution_count": 33,
     "metadata": {},
     "output_type": "execute_result"
    },
    {
     "data": {
      "image/png": "[encoded data removed]",
      "text/plain": [
       "<Figure size 640x480 with 1 Axes>"
      ]
     },
     "metadata": {},
     "output_type": "display_data"
    }
   ],
   "source": [
    "# 6) Applying the mask to your DataFrame and arrays for model fitting\n",
    "# Suppose your decline model needs (t, q). Use the same mask from the Schedule.\n",
    "cal_window = (\"2021-01-01\", \"2021-01-02\")\n",
    "mask = sched.iswithin(cal_window)\n",
    "\n",
    "q_cal = df_sorted.loc[mask, \"qoil\"].to_numpy()\n",
    "t_cal = t_days[mask]\n",
    "\n",
    "# Example: hand-rolled exponential fit using np.polyfit on log(q)\n",
    "# (Replace this with your production Arps class.)\n",
    "coef = np.polyfit(t_cal, np.log(np.clip(q_cal, 1e-12, None)), 1)\n",
    "D_est = -coef[0]                    # decline rate (per day)\n",
    "qi_est = float(np.exp(coef[1]))     # initial rate\n",
    "\n",
    "# Predict over the full schedule\n",
    "q_pred = qi_est * np.exp(-D_est * t_days)\n",
    "\n",
    "df_out = df_sorted.copy()\n",
    "df_out[\"q_pred_exp\"] = q_pred\n",
    "\n",
    "import matplotlib.pyplot as plt\n",
    "\n",
    "plt.scatter(df_out['date'],df_out['qoil'])\n",
    "plt.plot(df_out['date'],df_out['q_pred_exp'])"
   ]
  },
  {
   "cell_type": "code",
   "execution_count": 19,
   "id": "60228272-a113-4e21-a519-5e99ec4d3e19",
   "metadata": {},
   "outputs": [],
   "source": [
    "# 7) Typical wiring with your Arps implementation\n",
    "# (Adjust the import and API to your own code.)\n",
    "# from prodpy.decline.Arps import Arps\n",
    "# arps = Arps(model=\"hyperbolic\")  # or \"exponential\"/\"harmonic\"\n",
    "# params = arps.fit(t_cal, q_cal)   # returns, e.g., (qi, Di, b)\n",
    "# q_hat  = arps.predict(t_days, *params)\n",
    "# df_sorted[\"q_hat\"] = q_hat"
   ]
  },
  {
   "cell_type": "code",
   "execution_count": 20,
   "id": "fd81f1d3-6893-446e-991b-6706e5b15a3a",
   "metadata": {},
   "outputs": [
    {
     "name": "stdout",
     "output_type": "stream",
     "text": [
      "3   2021-01-04\n",
      "4   2021-01-05\n",
      "5   2021-01-06\n",
      "6   2021-01-07\n",
      "7   2021-01-08\n",
      "Name: date, dtype: datetime64[ns]\n"
     ]
    }
   ],
   "source": [
    "# 8) Clamping a schedule to bounds (e.g., history matching window)\n",
    "clamped = sched.clamp(start=\"2021-01-04\", end=\"2021-01-08\")\n",
    "print(clamped.series)"
   ]
  },
  {
   "cell_type": "code",
   "execution_count": 21,
   "id": "da0e72a6-05a3-47b3-84d7-063bcabdd25c",
   "metadata": {},
   "outputs": [
    {
     "name": "stdout",
     "output_type": "stream",
     "text": [
      "3 2 2 1\n"
     ]
    }
   ],
   "source": [
    "# 9) Inclusive rules for between checks (pandas-style semantics)\n",
    "# Options: inclusive=\"both\" (default), \"left\", \"right\", \"neither\"\n",
    "between_both   = sched.isbetween(\"2021-01-03\", \"2021-01-05\", inclusive=\"both\")\n",
    "between_left   = sched.isbetween(\"2021-01-03\", \"2021-01-05\", inclusive=\"left\")\n",
    "between_right  = sched.isbetween(\"2021-01-03\", \"2021-01-05\", inclusive=\"right\")\n",
    "between_none   = sched.isbetween(\"2021-01-03\", \"2021-01-05\", inclusive=\"neither\")\n",
    "print(between_both.sum(), between_left.sum(), between_right.sum(), between_none.sum())"
   ]
  },
  {
   "cell_type": "code",
   "execution_count": 41,
   "id": "a2fdfc36-ad61-4dfa-a0f4-3e36245cdb90",
   "metadata": {},
   "outputs": [
    {
     "name": "stdout",
     "output_type": "stream",
     "text": [
      "        date  qoil  t_days\n",
      "0 2021-01-01   500     0.0\n",
      "1 2021-01-02   400     1.0\n",
      "2 2021-01-03   300     2.0\n",
      "3 2021-01-05   200     4.0\n"
     ]
    }
   ],
   "source": [
    "# 10) Using Schedule with unsorted input and preserving alignment\n",
    "# Create an intentionally unsorted DataFrame\n",
    "raw = pd.DataFrame({\n",
    "    \"date\": pd.to_datetime([\"2021-01-03\", \"2021-01-01\", \"2021-01-05\", \"2021-01-02\"]),\n",
    "    \"qoil\": [300, 500, 200, 400],\n",
    "})\n",
    "\n",
    "sched2 = Schedule(raw[\"date\"])             # internally sorted by date\n",
    "order = sched2.align_to(raw, on=\"date\")    # index ordering that sorts by time\n",
    "raw_sorted = raw.loc[order].reset_index(drop=True)\n",
    "raw_sorted[\"t_days\"] = sched2.days_since_start()\n",
    "print(raw_sorted)"
   ]
  },
  {
   "cell_type": "code",
   "execution_count": 42,
   "id": "fc64eeea-ae2c-4c6c-8d3a-aa528ccb1947",
   "metadata": {},
   "outputs": [
    {
     "name": "stdout",
     "output_type": "stream",
     "text": [
      "        date        qoil  t_days\n",
      "0 2021-01-02  786.159725     1.0\n",
      "1 2021-01-03  773.525241     2.0\n",
      "2 2021-01-04  764.616093     3.0\n",
      "3 2021-01-05  747.830867     4.0\n",
      "4 2021-01-06  718.983545     5.0\n"
     ]
    }
   ],
   "source": [
    "# 11) Mask once, reuse everywhere (t, q, additional columns)\n",
    "mask = sched.iswithin((\"2021-01-02\", \"2021-01-06\"))\n",
    "sel = df_sorted.loc[mask, [\"date\", \"qoil\", \"t_days\"]].reset_index(drop=True)\n",
    "print(sel)"
   ]
  },
  {
   "cell_type": "code",
   "execution_count": 43,
   "id": "c9f91231-47a4-4dac-8c25-5f4016abe2b0",
   "metadata": {},
   "outputs": [
    {
     "name": "stdout",
     "output_type": "stream",
     "text": [
      "0   2021-01-13\n",
      "1   2021-01-14\n",
      "2   2021-01-15\n",
      "dtype: datetime64[ns] [12. 13. 14.]\n"
     ]
    }
   ],
   "source": [
    "# 12) Forecast grid for plotting\n",
    "# Build a dense future schedule based on last history date\n",
    "last_day = df_sorted[\"date\"].max()\n",
    "future = Schedule.get((last_day + pd.Timedelta(days=1), last_day + pd.Timedelta(days=90)),\n",
    "                      freq=\"D\")\n",
    "# Rebase future t to history t0 for continuous prediction\n",
    "future_t = future.days_since(df_sorted[\"date\"].min())\n",
    "print(future.series[:3], future_t[:3])"
   ]
  },
  {
   "cell_type": "code",
   "execution_count": null,
   "id": "c6bf86b8-a14c-4ca8-9d07-2e36cd3811a0",
   "metadata": {},
   "outputs": [],
   "source": []
  }
 ],
 "metadata": {
  "kernelspec": {
   "display_name": "Python 3 (ipykernel)",
   "language": "python",
   "name": "python3"
  },
  "language_info": {
   "codemirror_mode": {
    "name": "ipython",
    "version": 3
   },
   "file_extension": ".py",
   "mimetype": "text/x-python",
   "name": "python",
   "nbconvert_exporter": "python",
   "pygments_lexer": "ipython3",
   "version": "3.12.4"
  }
 },
 "nbformat": 4,
 "nbformat_minor": 5
}
